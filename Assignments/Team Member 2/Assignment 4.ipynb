{
  "nbformat": 4,
  "nbformat_minor": 0,
  "metadata": {
    "colab": {
      "provenance": [],
      "collapsed_sections": []
    },
    "kernelspec": {
      "name": "python3",
      "display_name": "Python 3"
    },
    "language_info": {
      "name": "python"
    }
  },
  "cells": [
    {
      "cell_type": "markdown",
      "source": [
        "# **1. Load the dataset into the tool**"
      ],
      "metadata": {
        "id": "3KNqjBKdo6yo"
      }
    },
    {
      "cell_type": "code",
      "execution_count": 1,
      "metadata": {
        "id": "ZXb1wT6IhZwk"
      },
      "outputs": [],
      "source": [
        "import pandas as pd \n",
        "import numpy as np\n",
        "import matplotlib.pyplot as plt\n",
        "import seaborn as sns\n",
        "import warnings \n",
        "warnings.filterwarnings('ignore')"
      ]
    },
    {
      "cell_type": "code",
      "source": [
        "#loading the dataset\n",
        "\n",
        "d = pd.read_csv(r'abalone.csv')"
      ],
      "metadata": {
        "id": "OrJqXht4Z6FF"
      },
      "execution_count": 2,
      "outputs": []
    },
    {
      "cell_type": "markdown",
      "source": [
        "# **2. Perform Below Visualizations**"
      ],
      "metadata": {
        "id": "sNlu1b_xpGZq"
      }
    },
    {
      "cell_type": "markdown",
      "source": [
        "### **∙Univariate Analysis**\n"
      ],
      "metadata": {
        "id": "h9Som5PMpIia"
      }
    },
    {
      "cell_type": "code",
      "source": [
        "d.head()"
      ],
      "metadata": {
        "id": "NyZ7XdNLjVbD",
        "colab": {
          "base_uri": "https://localhost:8080/",
          "height": 206
        },
        "outputId": "dd3b378c-6c4f-4965-8ccb-7fe11caebc6a"
      },
      "execution_count": 3,
      "outputs": [
        {
          "output_type": "execute_result",
          "data": {
            "text/plain": [
              "  Sex  Length  Diameter  Height  Whole weight  Shucked weight  Viscera weight  \\\n",
              "0   M   0.455     0.365   0.095        0.5140          0.2245          0.1010   \n",
              "1   M   0.350     0.265   0.090        0.2255          0.0995          0.0485   \n",
              "2   F   0.530     0.420   0.135        0.6770          0.2565          0.1415   \n",
              "3   M   0.440     0.365   0.125        0.5160          0.2155          0.1140   \n",
              "4   I   0.330     0.255   0.080        0.2050          0.0895          0.0395   \n",
              "\n",
              "   Shell weight  Rings  \n",
              "0         0.150     15  \n",
              "1         0.070      7  \n",
              "2         0.210      9  \n",
              "3         0.155     10  \n",
              "4         0.055      7  "
            ],
            "text/html": [
              "\n",
              "  <div id=\"df-27298f41-724f-4d3d-9b6f-bdfd6efbe7d7\">\n",
              "    <div class=\"colab-df-container\">\n",
              "      <div>\n",
              "<style scoped>\n",
              "    .dataframe tbody tr th:only-of-type {\n",
              "        vertical-align: middle;\n",
              "    }\n",
              "\n",
              "    .dataframe tbody tr th {\n",
              "        vertical-align: top;\n",
              "    }\n",
              "\n",
              "    .dataframe thead th {\n",
              "        text-align: right;\n",
              "    }\n",
              "</style>\n",
              "<table border=\"1\" class=\"dataframe\">\n",
              "  <thead>\n",
              "    <tr style=\"text-align: right;\">\n",
              "      <th></th>\n",
              "      <th>Sex</th>\n",
              "      <th>Length</th>\n",
              "      <th>Diameter</th>\n",
              "      <th>Height</th>\n",
              "      <th>Whole weight</th>\n",
              "      <th>Shucked weight</th>\n",
              "      <th>Viscera weight</th>\n",
              "      <th>Shell weight</th>\n",
              "      <th>Rings</th>\n",
              "    </tr>\n",
              "  </thead>\n",
              "  <tbody>\n",
              "    <tr>\n",
              "      <th>0</th>\n",
              "      <td>M</td>\n",
              "      <td>0.455</td>\n",
              "      <td>0.365</td>\n",
              "      <td>0.095</td>\n",
              "      <td>0.5140</td>\n",
              "      <td>0.2245</td>\n",
              "      <td>0.1010</td>\n",
              "      <td>0.150</td>\n",
              "      <td>15</td>\n",
              "    </tr>\n",
              "    <tr>\n",
              "      <th>1</th>\n",
              "      <td>M</td>\n",
              "      <td>0.350</td>\n",
              "      <td>0.265</td>\n",
              "      <td>0.090</td>\n",
              "      <td>0.2255</td>\n",
              "      <td>0.0995</td>\n",
              "      <td>0.0485</td>\n",
              "      <td>0.070</td>\n",
              "      <td>7</td>\n",
              "    </tr>\n",
              "    <tr>\n",
              "      <th>2</th>\n",
              "      <td>F</td>\n",
              "      <td>0.530</td>\n",
              "      <td>0.420</td>\n",
              "      <td>0.135</td>\n",
              "      <td>0.6770</td>\n",
              "      <td>0.2565</td>\n",
              "      <td>0.1415</td>\n",
              "      <td>0.210</td>\n",
              "      <td>9</td>\n",
              "    </tr>\n",
              "    <tr>\n",
              "      <th>3</th>\n",
              "      <td>M</td>\n",
              "      <td>0.440</td>\n",
              "      <td>0.365</td>\n",
              "      <td>0.125</td>\n",
              "      <td>0.5160</td>\n",
              "      <td>0.2155</td>\n",
              "      <td>0.1140</td>\n",
              "      <td>0.155</td>\n",
              "      <td>10</td>\n",
              "    </tr>\n",
              "    <tr>\n",
              "      <th>4</th>\n",
              "      <td>I</td>\n",
              "      <td>0.330</td>\n",
              "      <td>0.255</td>\n",
              "      <td>0.080</td>\n",
              "      <td>0.2050</td>\n",
              "      <td>0.0895</td>\n",
              "      <td>0.0395</td>\n",
              "      <td>0.055</td>\n",
              "      <td>7</td>\n",
              "    </tr>\n",
              "  </tbody>\n",
              "</table>\n",
              "</div>\n",
              "      <button class=\"colab-df-convert\" onclick=\"convertToInteractive('df-27298f41-724f-4d3d-9b6f-bdfd6efbe7d7')\"\n",
              "              title=\"Convert this dataframe to an interactive table.\"\n",
              "              style=\"display:none;\">\n",
              "        \n",
              "  <svg xmlns=\"http://www.w3.org/2000/svg\" height=\"24px\"viewBox=\"0 0 24 24\"\n",
              "       width=\"24px\">\n",
              "    <path d=\"M0 0h24v24H0V0z\" fill=\"none\"/>\n",
              "    <path d=\"M18.56 5.44l.94 2.06.94-2.06 2.06-.94-2.06-.94-.94-2.06-.94 2.06-2.06.94zm-11 1L8.5 8.5l.94-2.06 2.06-.94-2.06-.94L8.5 2.5l-.94 2.06-2.06.94zm10 10l.94 2.06.94-2.06 2.06-.94-2.06-.94-.94-2.06-.94 2.06-2.06.94z\"/><path d=\"M17.41 7.96l-1.37-1.37c-.4-.4-.92-.59-1.43-.59-.52 0-1.04.2-1.43.59L10.3 9.45l-7.72 7.72c-.78.78-.78 2.05 0 2.83L4 21.41c.39.39.9.59 1.41.59.51 0 1.02-.2 1.41-.59l7.78-7.78 2.81-2.81c.8-.78.8-2.07 0-2.86zM5.41 20L4 18.59l7.72-7.72 1.47 1.35L5.41 20z\"/>\n",
              "  </svg>\n",
              "      </button>\n",
              "      \n",
              "  <style>\n",
              "    .colab-df-container {\n",
              "      display:flex;\n",
              "      flex-wrap:wrap;\n",
              "      gap: 12px;\n",
              "    }\n",
              "\n",
              "    .colab-df-convert {\n",
              "      background-color: #E8F0FE;\n",
              "      border: none;\n",
              "      border-radius: 50%;\n",
              "      cursor: pointer;\n",
              "      display: none;\n",
              "      fill: #1967D2;\n",
              "      height: 32px;\n",
              "      padding: 0 0 0 0;\n",
              "      width: 32px;\n",
              "    }\n",
              "\n",
              "    .colab-df-convert:hover {\n",
              "      background-color: #E2EBFA;\n",
              "      box-shadow: 0px 1px 2px rgba(60, 64, 67, 0.3), 0px 1px 3px 1px rgba(60, 64, 67, 0.15);\n",
              "      fill: #174EA6;\n",
              "    }\n",
              "\n",
              "    [theme=dark] .colab-df-convert {\n",
              "      background-color: #3B4455;\n",
              "      fill: #D2E3FC;\n",
              "    }\n",
              "\n",
              "    [theme=dark] .colab-df-convert:hover {\n",
              "      background-color: #434B5C;\n",
              "      box-shadow: 0px 1px 3px 1px rgba(0, 0, 0, 0.15);\n",
              "      filter: drop-shadow(0px 1px 2px rgba(0, 0, 0, 0.3));\n",
              "      fill: #FFFFFF;\n",
              "    }\n",
              "  </style>\n",
              "\n",
              "      <script>\n",
              "        const buttonEl =\n",
              "          document.querySelector('#df-27298f41-724f-4d3d-9b6f-bdfd6efbe7d7 button.colab-df-convert');\n",
              "        buttonEl.style.display =\n",
              "          google.colab.kernel.accessAllowed ? 'block' : 'none';\n",
              "\n",
              "        async function convertToInteractive(key) {\n",
              "          const element = document.querySelector('#df-27298f41-724f-4d3d-9b6f-bdfd6efbe7d7');\n",
              "          const dataTable =\n",
              "            await google.colab.kernel.invokeFunction('convertToInteractive',\n",
              "                                                     [key], {});\n",
              "          if (!dataTable) return;\n",
              "\n",
              "          const docLinkHtml = 'Like what you see? Visit the ' +\n",
              "            '<a target=\"_blank\" href=https://colab.research.google.com/notebooks/data_table.ipynb>data table notebook</a>'\n",
              "            + ' to learn more about interactive tables.';\n",
              "          element.innerHTML = '';\n",
              "          dataTable['output_type'] = 'display_data';\n",
              "          await google.colab.output.renderOutput(dataTable, element);\n",
              "          const docLink = document.createElement('div');\n",
              "          docLink.innerHTML = docLinkHtml;\n",
              "          element.appendChild(docLink);\n",
              "        }\n",
              "      </script>\n",
              "    </div>\n",
              "  </div>\n",
              "  "
            ]
          },
          "metadata": {},
          "execution_count": 3
        }
      ]
    },
    {
      "cell_type": "code",
      "source": [
        "#Boxplot\n",
        "\n",
        "sns.boxplot(d['Diameter'])"
      ],
      "metadata": {
        "id": "KZS8lARFjXnb",
        "colab": {
          "base_uri": "https://localhost:8080/",
          "height": 296
        },
        "outputId": "67d4315d-0309-43b5-b7cd-698cbc298b8a"
      },
      "execution_count": 5,
      "outputs": [
        {
          "output_type": "execute_result",
          "data": {
            "text/plain": [
              "<matplotlib.axes._subplots.AxesSubplot at 0x7fcb14574890>"
            ]
          },
          "metadata": {},
          "execution_count": 5
        },
        {
          "output_type": "display_data",
          "data": {
            "text/plain": [
              "<Figure size 432x288 with 1 Axes>"
            ],
            "image/png": "[encoded data removed]"
          },
          "metadata": {
            "needs_background": "light"
          }
        }
      ]
    },
    {
      "cell_type": "code",
      "source": [
        "#histogram\n",
        "\n",
        "plt.hist(d['Diameter'])"
      ],
      "metadata": {
        "id": "ecuyzWBZjgZ2",
        "colab": {
          "base_uri": "https://localhost:8080/",
          "height": 352
        },
        "outputId": "5a693d87-fe03-4745-e328-dcd42be07a03"
      },
      "execution_count": 6,
      "outputs": [
        {
          "output_type": "execute_result",
          "data": {
            "text/plain": [
              "(array([  13.,   66.,  180.,  344.,  513.,  812., 1017.,  934.,  275.,\n",
              "          23.]),\n",
              " array([0.055 , 0.1145, 0.174 , 0.2335, 0.293 , 0.3525, 0.412 , 0.4715,\n",
              "        0.531 , 0.5905, 0.65  ]),\n",
              " <a list of 10 Patch objects>)"
            ]
          },
          "metadata": {},
          "execution_count": 6
        },
        {
          "output_type": "display_data",
          "data": {
            "text/plain": [
              "<Figure size 432x288 with 1 Axes>"
            ],
            "image/png": "[encoded data removed]"
          },
          "metadata": {
            "needs_background": "light"
          }
        }
      ]
    },
    {
      "cell_type": "code",
      "source": [
        "#line plot\n",
        "\n",
        "plt.plot(d['Diameter'].head(10))"
      ],
      "metadata": {
        "id": "sMU39RHtjjgN",
        "colab": {
          "base_uri": "https://localhost:8080/",
          "height": 282
        },
        "outputId": "c196c937-d334-4728-d994-d5241f7e23a5"
      },
      "execution_count": 7,
      "outputs": [
        {
          "output_type": "execute_result",
          "data": {
            "text/plain": [
              "[<matplotlib.lines.Line2D at 0x7fcb13f22450>]"
            ]
          },
          "metadata": {},
          "execution_count": 7
        },
        {
          "output_type": "display_data",
          "data": {
            "text/plain": [
              "<Figure size 432x288 with 1 Axes>"
            ],
            "image/png": "[encoded data removed]"
          },
          "metadata": {
            "needs_background": "light"
          }
        }
      ]
    },
    {
      "cell_type": "code",
      "source": [
        "#piechart\n",
        "\n",
        "plt.pie(d['Diameter'].head(),autopct='%.2f')"
      ],
      "metadata": {
        "id": "dNkrHbb8jn0e",
        "colab": {
          "base_uri": "https://localhost:8080/",
          "height": 508
        },
        "outputId": "08e28844-6c59-4d01-8f94-2b1d54a9ac54"
      },
      "execution_count": 8,
      "outputs": [
        {
          "output_type": "execute_result",
          "data": {
            "text/plain": [
              "([<matplotlib.patches.Wedge at 0x7fcb13e95510>,\n",
              "  <matplotlib.patches.Wedge at 0x7fcb13e95d10>,\n",
              "  <matplotlib.patches.Wedge at 0x7fcb13e9f5d0>,\n",
              "  <matplotlib.patches.Wedge at 0x7fcb13e9fed0>,\n",
              "  <matplotlib.patches.Wedge at 0x7fcb13ea8a50>],\n",
              " [Text(0.8507215626110557, 0.6973326486753676, ''),\n",
              "  Text(-0.32611344931648134, 1.0505474849691026, ''),\n",
              "  Text(-1.0998053664078908, -0.02069193128747144, ''),\n",
              "  Text(-0.08269436219656089, -1.096887251480709, ''),\n",
              "  Text(0.9758446362287218, -0.5076684409569241, '')],\n",
              " [Text(0.46402994324239394, 0.3803632629138369, '21.86'),\n",
              "  Text(-0.17788006326353525, 0.5730259008922377, '15.87'),\n",
              "  Text(-0.5998938362224858, -0.011286507974984419, '25.15'),\n",
              "  Text(-0.045106015743578656, -0.5983021371712958, '21.86'),\n",
              "  Text(0.5322788924883937, -0.2769100587037768, '15.27')])"
            ]
          },
          "metadata": {},
          "execution_count": 8
        },
        {
          "output_type": "display_data",
          "data": {
            "text/plain": [
              "<Figure size 432x288 with 1 Axes>"
            ],
            "image/png": "[encoded data removed]"
          },
          "metadata": {}
        }
      ]
    },
    {
      "cell_type": "code",
      "source": [
        "#distplot\n",
        "\n",
        "sns.distplot(d['Diameter'].head(200))"
      ],
      "metadata": {
        "id": "9JY98Ia1jrNA",
        "colab": {
          "base_uri": "https://localhost:8080/",
          "height": 298
        },
        "outputId": "597366cc-33a4-42a6-8cc7-b00bca89b737"
      },
      "execution_count": 9,
      "outputs": [
        {
          "output_type": "execute_result",
          "data": {
            "text/plain": [
              "<matplotlib.axes._subplots.AxesSubplot at 0x7fcb13d36990>"
            ]
          },
          "metadata": {},
          "execution_count": 9
        },
        {
          "output_type": "display_data",
          "data": {
            "text/plain": [
              "<Figure size 432x288 with 1 Axes>"
            ],
            "image/png": "[encoded data removed]"
          },
          "metadata": {
            "needs_background": "light"
          }
        }
      ]
    },
    {
      "cell_type": "markdown",
      "source": [
        "### **∙ Bi-Variate Analysis**"
      ],
      "metadata": {
        "id": "YoSQND-ECm8H"
      }
    },
    {
      "cell_type": "code",
      "source": [
        "#scatter plot\n",
        "\n",
        "plt.scatter(d['Diameter'].head(500),d['Length'].head(500))"
      ],
      "metadata": {
        "id": "Kchl8La5juJU",
        "colab": {
          "base_uri": "https://localhost:8080/",
          "height": 282
        },
        "outputId": "61324b37-f614-46f4-ed1e-6682e98b80da"
      },
      "execution_count": 10,
      "outputs": [
        {
          "output_type": "execute_result",
          "data": {
            "text/plain": [
              "<matplotlib.collections.PathCollection at 0x7fcb13d31810>"
            ]
          },
          "metadata": {},
          "execution_count": 10
        },
        {
          "output_type": "display_data",
          "data": {
            "text/plain": [
              "<Figure size 432x288 with 1 Axes>"
            ],
            "image/png": "[encoded data removed]"
          },
          "metadata": {
            "needs_background": "light"
          }
        }
      ]
    },
    {
      "cell_type": "code",
      "source": [
        "#bar plot\n",
        "\n",
        "plt.bar(d['Sex'].head(10),d['Rings'].head(10))\n",
        "\n",
        "#labelling of x,y and result\n",
        "\n",
        "plt.title('Bar plot')\n",
        "plt.xlabel('Diameter')\n",
        "plt.ylabel('Rings')"
      ],
      "metadata": {
        "id": "RNtfGBmOjxPh",
        "colab": {
          "base_uri": "https://localhost:8080/",
          "height": 312
        },
        "outputId": "2670816e-77c2-4af6-8157-8fa23f2f77bc"
      },
      "execution_count": 11,
      "outputs": [
        {
          "output_type": "execute_result",
          "data": {
            "text/plain": [
              "Text(0, 0.5, 'Rings')"
            ]
          },
          "metadata": {},
          "execution_count": 11
        },
        {
          "output_type": "display_data",
          "data": {
            "text/plain": [
              "<Figure size 432x288 with 1 Axes>"
            ],
            "image/png": "[encoded data removed]"
          },
          "metadata": {
            "needs_background": "light"
          }
        }
      ]
    },
    {
      "cell_type": "code",
      "source": [
        "sns.barplot(d['Sex'], d['Rings'])"
      ],
      "metadata": {
        "id": "PVBV_pvTj2GR",
        "colab": {
          "base_uri": "https://localhost:8080/",
          "height": 296
        },
        "outputId": "037ad1b0-ecc7-45fb-8539-fc7ee2e58988"
      },
      "execution_count": 12,
      "outputs": [
        {
          "output_type": "execute_result",
          "data": {
            "text/plain": [
              "<matplotlib.axes._subplots.AxesSubplot at 0x7fcb13b32810>"
            ]
          },
          "metadata": {},
          "execution_count": 12
        },
        {
          "output_type": "display_data",
          "data": {
            "text/plain": [
              "<Figure size 432x288 with 1 Axes>"
            ],
            "image/png": "[encoded data removed]"
          },
          "metadata": {
            "needs_background": "light"
          }
        }
      ]
    },
    {
      "cell_type": "code",
      "source": [
        "#bar plot\n",
        "\n",
        "sns.barplot(d['Diameter'].head(50),d['Rings'].head(50))"
      ],
      "metadata": {
        "id": "j-cH_XvMj6v_",
        "colab": {
          "base_uri": "https://localhost:8080/",
          "height": 296
        },
        "outputId": "b63fe029-e789-4e54-c862-e3deb5793a52"
      },
      "execution_count": 91,
      "outputs": [
        {
          "output_type": "execute_result",
          "data": {
            "text/plain": [
              "<matplotlib.axes._subplots.AxesSubplot at 0x7fcb0b1ba610>"
            ]
          },
          "metadata": {},
          "execution_count": 91
        },
        {
          "output_type": "display_data",
          "data": {
            "text/plain": [
              "<Figure size 432x288 with 1 Axes>"
            ],
            "image/png": "[encoded data removed]"
          },
          "metadata": {
            "needs_background": "light"
          }
        }
      ]
    },
    {
      "cell_type": "code",
      "source": [
        "#joint plot\n",
        "\n",
        "sns.jointplot('Diameter','Rings',hue='Sex',data=d.head())"
      ],
      "metadata": {
        "id": "v7SMVRr_j-Up",
        "colab": {
          "base_uri": "https://localhost:8080/",
          "height": 458
        },
        "outputId": "816b6e27-643e-41a0-da31-5a578ab5a2e1"
      },
      "execution_count": 90,
      "outputs": [
        {
          "output_type": "execute_result",
          "data": {
            "text/plain": [
              "<seaborn.axisgrid.JointGrid at 0x7fcb0b1ba110>"
            ]
          },
          "metadata": {},
          "execution_count": 90
        },
        {
          "output_type": "display_data",
          "data": {
            "text/plain": [
              "<Figure size 432x432 with 3 Axes>"
            ],
            "image/png": "[encoded data removed]"
          },
          "metadata": {
            "needs_background": "light"
          }
        }
      ]
    },
    {
      "cell_type": "code",
      "source": [
        "sns.lineplot(d['Diameter'].head(),d['Rings'].head())"
      ],
      "metadata": {
        "id": "lEmYgx6RkB_z",
        "colab": {
          "base_uri": "https://localhost:8080/",
          "height": 296
        },
        "outputId": "01c3e648-6987-4887-eda5-391b9dd70b60"
      },
      "execution_count": 92,
      "outputs": [
        {
          "output_type": "execute_result",
          "data": {
            "text/plain": [
              "<matplotlib.axes._subplots.AxesSubplot at 0x7fcb0ae8b850>"
            ]
          },
          "metadata": {},
          "execution_count": 92
        },
        {
          "output_type": "display_data",
          "data": {
            "text/plain": [
              "<Figure size 432x288 with 1 Axes>"
            ],
            "image/png": "[encoded data removed]"
          },
          "metadata": {
            "needs_background": "light"
          }
        }
      ]
    },
    {
      "cell_type": "markdown",
      "source": [
        "### **∙ Multi-Variate Analysis**"
      ],
      "metadata": {
        "id": "xUPbhUXUd4zC"
      }
    },
    {
      "cell_type": "code",
      "source": [
        "#boxplot\n",
        "\n",
        "sns.boxplot(d['Sex'].head(10),d['Diameter'].head(10),d['Rings'].head(10))"
      ],
      "metadata": {
        "id": "M9ZhuRWykFZE",
        "colab": {
          "base_uri": "https://localhost:8080/",
          "height": 296
        },
        "outputId": "c4ecbe06-22c3-4048-80de-aa297a613599"
      },
      "execution_count": 16,
      "outputs": [
        {
          "output_type": "execute_result",
          "data": {
            "text/plain": [
              "<matplotlib.axes._subplots.AxesSubplot at 0x7fcb110530d0>"
            ]
          },
          "metadata": {},
          "execution_count": 16
        },
        {
          "output_type": "display_data",
          "data": {
            "text/plain": [
              "<Figure size 432x288 with 1 Axes>"
            ],
            "image/png": "[encoded data removed]"
          },
          "metadata": {
            "needs_background": "light"
          }
        }
      ]
    },
    {
      "cell_type": "code",
      "source": [
        "#heat map\n",
        "\n",
        "fig=plt.figure(figsize=(8,5))\n",
        "sns.heatmap(d.head().corr(),annot=True)"
      ],
      "metadata": {
        "id": "70sJV93QkJaB",
        "colab": {
          "base_uri": "https://localhost:8080/",
          "height": 410
        },
        "outputId": "dfeeefdf-89b8-4e5a-aa4d-507cb88c65f2"
      },
      "execution_count": 17,
      "outputs": [
        {
          "output_type": "execute_result",
          "data": {
            "text/plain": [
              "<matplotlib.axes._subplots.AxesSubplot at 0x7fcb13f4c210>"
            ]
          },
          "metadata": {},
          "execution_count": 17
        },
        {
          "output_type": "display_data",
          "data": {
            "text/plain": [
              "<Figure size 576x360 with 2 Axes>"
            ],
            "image/png": "[encoded data removed]"
          },
          "metadata": {
            "needs_background": "light"
          }
        }
      ]
    },
    {
      "cell_type": "code",
      "source": [
        "#pair plot\n",
        "\n",
        "sns.pairplot(d.head(),hue='Rings')"
      ],
      "metadata": {
        "id": "dZH2E25VkOLQ",
        "colab": {
          "base_uri": "https://localhost:8080/",
          "height": 933
        },
        "outputId": "0b37a1c1-7ec6-4ad1-9649-c56104fa8f07"
      },
      "execution_count": 18,
      "outputs": [
        {
          "output_type": "execute_result",
          "data": {
            "text/plain": [
              "<seaborn.axisgrid.PairGrid at 0x7fcb10d8f210>"
            ]
          },
          "metadata": {},
          "execution_count": 18
        },
        {
          "output_type": "display_data",
          "data": {
            "text/plain": [
              "<Figure size 1308.75x1260 with 56 Axes>"
            ],
            "image/png": "[encoded data removed]"
          },
          "metadata": {
            "needs_background": "light"
          }
        }
      ]
    },
    {
      "cell_type": "code",
      "source": [
        "sns.pairplot(d.head())"
      ],
      "metadata": {
        "id": "V5EIKUPhkRKK",
        "colab": {
          "base_uri": "https://localhost:8080/",
          "height": 977
        },
        "outputId": "dda9bf28-0c73-4b98-c3fe-3af0fd0a551d"
      },
      "execution_count": 19,
      "outputs": [
        {
          "output_type": "execute_result",
          "data": {
            "text/plain": [
              "<seaborn.axisgrid.PairGrid at 0x7fcb0f88e390>"
            ]
          },
          "metadata": {},
          "execution_count": 19
        },
        {
          "output_type": "display_data",
          "data": {
            "text/plain": [
              "<Figure size 1440x1440 with 72 Axes>"
            ],
            "image/png": "[encoded data removed]"
          },
          "metadata": {
            "needs_background": "light"
          }
        }
      ]
    },
    {
      "cell_type": "markdown",
      "source": [
        "# **3. Perform descriptive statistics on the dataset.**"
      ],
      "metadata": {
        "id": "sS4rKp1beEh-"
      }
    },
    {
      "cell_type": "code",
      "source": [
        "d.head()"
      ],
      "metadata": {
        "id": "vj0ju3uIkeLJ",
        "colab": {
          "base_uri": "https://localhost:8080/",
          "height": 206
        },
        "outputId": "83dedb27-2af2-4cdf-91c8-6a4afb7330da"
      },
      "execution_count": 20,
      "outputs": [
        {
          "output_type": "execute_result",
          "data": {
            "text/plain": [
              "  Sex  Length  Diameter  Height  Whole weight  Shucked weight  Viscera weight  \\\n",
              "0   M   0.455     0.365   0.095        0.5140          0.2245          0.1010   \n",
              "1   M   0.350     0.265   0.090        0.2255          0.0995          0.0485   \n",
              "2   F   0.530     0.420   0.135        0.6770          0.2565          0.1415   \n",
              "3   M   0.440     0.365   0.125        0.5160          0.2155          0.1140   \n",
              "4   I   0.330     0.255   0.080        0.2050          0.0895          0.0395   \n",
              "\n",
              "   Shell weight  Rings  \n",
              "0         0.150     15  \n",
              "1         0.070      7  \n",
              "2         0.210      9  \n",
              "3         0.155     10  \n",
              "4         0.055      7  "
            ],
            "text/html": [
              "\n",
              "  <div id=\"df-08964013-2b6d-45c0-9f86-861728da0c3f\">\n",
              "    <div class=\"colab-df-container\">\n",
              "      <div>\n",
              "<style scoped>\n",
              "    .dataframe tbody tr th:only-of-type {\n",
              "        vertical-align: middle;\n",
              "    }\n",
              "\n",
              "    .dataframe tbody tr th {\n",
              "        vertical-align: top;\n",
              "    }\n",
              "\n",
              "    .dataframe thead th {\n",
              "        text-align: right;\n",
              "    }\n",
              "</style>\n",
              "<table border=\"1\" class=\"dataframe\">\n",
              "  <thead>\n",
              "    <tr style=\"text-align: right;\">\n",
              "      <th></th>\n",
              "      <th>Sex</th>\n",
              "      <th>Length</th>\n",
              "      <th>Diameter</th>\n",
              "      <th>Height</th>\n",
              "      <th>Whole weight</th>\n",
              "      <th>Shucked weight</th>\n",
              "      <th>Viscera weight</th>\n",
              "      <th>Shell weight</th>\n",
              "      <th>Rings</th>\n",
              "    </tr>\n",
              "  </thead>\n",
              "  <tbody>\n",
              "    <tr>\n",
              "      <th>0</th>\n",
              "      <td>M</td>\n",
              "      <td>0.455</td>\n",
              "      <td>0.365</td>\n",
              "      <td>0.095</td>\n",
              "      <td>0.5140</td>\n",
              "      <td>0.2245</td>\n",
              "      <td>0.1010</td>\n",
              "      <td>0.150</td>\n",
              "      <td>15</td>\n",
              "    </tr>\n",
              "    <tr>\n",
              "      <th>1</th>\n",
              "      <td>M</td>\n",
              "      <td>0.350</td>\n",
              "      <td>0.265</td>\n",
              "      <td>0.090</td>\n",
              "      <td>0.2255</td>\n",
              "      <td>0.0995</td>\n",
              "      <td>0.0485</td>\n",
              "      <td>0.070</td>\n",
              "      <td>7</td>\n",
              "    </tr>\n",
              "    <tr>\n",
              "      <th>2</th>\n",
              "      <td>F</td>\n",
              "      <td>0.530</td>\n",
              "      <td>0.420</td>\n",
              "      <td>0.135</td>\n",
              "      <td>0.6770</td>\n",
              "      <td>0.2565</td>\n",
              "      <td>0.1415</td>\n",
              "      <td>0.210</td>\n",
              "      <td>9</td>\n",
              "    </tr>\n",
              "    <tr>\n",
              "      <th>3</th>\n",
              "      <td>M</td>\n",
              "      <td>0.440</td>\n",
              "      <td>0.365</td>\n",
              "      <td>0.125</td>\n",
              "      <td>0.5160</td>\n",
              "      <td>0.2155</td>\n",
              "      <td>0.1140</td>\n",
              "      <td>0.155</td>\n",
              "      <td>10</td>\n",
              "    </tr>\n",
              "    <tr>\n",
              "      <th>4</th>\n",
              "      <td>I</td>\n",
              "      <td>0.330</td>\n",
              "      <td>0.255</td>\n",
              "      <td>0.080</td>\n",
              "      <td>0.2050</td>\n",
              "      <td>0.0895</td>\n",
              "      <td>0.0395</td>\n",
              "      <td>0.055</td>\n",
              "      <td>7</td>\n",
              "    </tr>\n",
              "  </tbody>\n",
              "</table>\n",
              "</div>\n",
              "      <button class=\"colab-df-convert\" onclick=\"convertToInteractive('df-08964013-2b6d-45c0-9f86-861728da0c3f')\"\n",
              "              title=\"Convert this dataframe to an interactive table.\"\n",
              "              style=\"display:none;\">\n",
              "        \n",
              "  <svg xmlns=\"http://www.w3.org/2000/svg\" height=\"24px\"viewBox=\"0 0 24 24\"\n",
              "       width=\"24px\">\n",
              "    <path d=\"M0 0h24v24H0V0z\" fill=\"none\"/>\n",
              "    <path d=\"M18.56 5.44l.94 2.06.94-2.06 2.06-.94-2.06-.94-.94-2.06-.94 2.06-2.06.94zm-11 1L8.5 8.5l.94-2.06 2.06-.94-2.06-.94L8.5 2.5l-.94 2.06-2.06.94zm10 10l.94 2.06.94-2.06 2.06-.94-2.06-.94-.94-2.06-.94 2.06-2.06.94z\"/><path d=\"M17.41 7.96l-1.37-1.37c-.4-.4-.92-.59-1.43-.59-.52 0-1.04.2-1.43.59L10.3 9.45l-7.72 7.72c-.78.78-.78 2.05 0 2.83L4 21.41c.39.39.9.59 1.41.59.51 0 1.02-.2 1.41-.59l7.78-7.78 2.81-2.81c.8-.78.8-2.07 0-2.86zM5.41 20L4 18.59l7.72-7.72 1.47 1.35L5.41 20z\"/>\n",
              "  </svg>\n",
              "      </button>\n",
              "      \n",
              "  <style>\n",
              "    .colab-df-container {\n",
              "      display:flex;\n",
              "      flex-wrap:wrap;\n",
              "      gap: 12px;\n",
              "    }\n",
              "\n",
              "    .colab-df-convert {\n",
              "      background-color: #E8F0FE;\n",
              "      border: none;\n",
              "      border-radius: 50%;\n",
              "      cursor: pointer;\n",
              "      display: none;\n",
              "      fill: #1967D2;\n",
              "      height: 32px;\n",
              "      padding: 0 0 0 0;\n",
              "      width: 32px;\n",
              "    }\n",
              "\n",
              "    .colab-df-convert:hover {\n",
              "      background-color: #E2EBFA;\n",
              "      box-shadow: 0px 1px 2px rgba(60, 64, 67, 0.3), 0px 1px 3px 1px rgba(60, 64, 67, 0.15);\n",
              "      fill: #174EA6;\n",
              "    }\n",
              "\n",
              "    [theme=dark] .colab-df-convert {\n",
              "      background-color: #3B4455;\n",
              "      fill: #D2E3FC;\n",
              "    }\n",
              "\n",
              "    [theme=dark] .colab-df-convert:hover {\n",
              "      background-color: #434B5C;\n",
              "      box-shadow: 0px 1px 3px 1px rgba(0, 0, 0, 0.15);\n",
              "      filter: drop-shadow(0px 1px 2px rgba(0, 0, 0, 0.3));\n",
              "      fill: #FFFFFF;\n",
              "    }\n",
              "  </style>\n",
              "\n",
              "      <script>\n",
              "        const buttonEl =\n",
              "          document.querySelector('#df-08964013-2b6d-45c0-9f86-861728da0c3f button.colab-df-convert');\n",
              "        buttonEl.style.display =\n",
              "          google.colab.kernel.accessAllowed ? 'block' : 'none';\n",
              "\n",
              "        async function convertToInteractive(key) {\n",
              "          const element = document.querySelector('#df-08964013-2b6d-45c0-9f86-861728da0c3f');\n",
              "          const dataTable =\n",
              "            await google.colab.kernel.invokeFunction('convertToInteractive',\n",
              "                                                     [key], {});\n",
              "          if (!dataTable) return;\n",
              "\n",
              "          const docLinkHtml = 'Like what you see? Visit the ' +\n",
              "            '<a target=\"_blank\" href=https://colab.research.google.com/notebooks/data_table.ipynb>data table notebook</a>'\n",
              "            + ' to learn more about interactive tables.';\n",
              "          element.innerHTML = '';\n",
              "          dataTable['output_type'] = 'display_data';\n",
              "          await google.colab.output.renderOutput(dataTable, element);\n",
              "          const docLink = document.createElement('div');\n",
              "          docLink.innerHTML = docLinkHtml;\n",
              "          element.appendChild(docLink);\n",
              "        }\n",
              "      </script>\n",
              "    </div>\n",
              "  </div>\n",
              "  "
            ]
          },
          "metadata": {},
          "execution_count": 20
        }
      ]
    },
    {
      "cell_type": "code",
      "source": [
        "d.tail()"
      ],
      "metadata": {
        "id": "hPz1NAlUkhYn",
        "colab": {
          "base_uri": "https://localhost:8080/",
          "height": 206
        },
        "outputId": "ee61776b-8b6d-4139-d319-439eedbf3daf"
      },
      "execution_count": 21,
      "outputs": [
        {
          "output_type": "execute_result",
          "data": {
            "text/plain": [
              "     Sex  Length  Diameter  Height  Whole weight  Shucked weight  \\\n",
              "4172   F   0.565     0.450   0.165        0.8870          0.3700   \n",
              "4173   M   0.590     0.440   0.135        0.9660          0.4390   \n",
              "4174   M   0.600     0.475   0.205        1.1760          0.5255   \n",
              "4175   F   0.625     0.485   0.150        1.0945          0.5310   \n",
              "4176   M   0.710     0.555   0.195        1.9485          0.9455   \n",
              "\n",
              "      Viscera weight  Shell weight  Rings  \n",
              "4172          0.2390        0.2490     11  \n",
              "4173          0.2145        0.2605     10  \n",
              "4174          0.2875        0.3080      9  \n",
              "4175          0.2610        0.2960     10  \n",
              "4176          0.3765        0.4950     12  "
            ],
            "text/html": [
              "\n",
              "  <div id=\"df-90d8884d-6906-4af6-b930-c9ff0e1cdd25\">\n",
              "    <div class=\"colab-df-container\">\n",
              "      <div>\n",
              "<style scoped>\n",
              "    .dataframe tbody tr th:only-of-type {\n",
              "        vertical-align: middle;\n",
              "    }\n",
              "\n",
              "    .dataframe tbody tr th {\n",
              "        vertical-align: top;\n",
              "    }\n",
              "\n",
              "    .dataframe thead th {\n",
              "        text-align: right;\n",
              "    }\n",
              "</style>\n",
              "<table border=\"1\" class=\"dataframe\">\n",
              "  <thead>\n",
              "    <tr style=\"text-align: right;\">\n",
              "      <th></th>\n",
              "      <th>Sex</th>\n",
              "      <th>Length</th>\n",
              "      <th>Diameter</th>\n",
              "      <th>Height</th>\n",
              "      <th>Whole weight</th>\n",
              "      <th>Shucked weight</th>\n",
              "      <th>Viscera weight</th>\n",
              "      <th>Shell weight</th>\n",
              "      <th>Rings</th>\n",
              "    </tr>\n",
              "  </thead>\n",
              "  <tbody>\n",
              "    <tr>\n",
              "      <th>4172</th>\n",
              "      <td>F</td>\n",
              "      <td>0.565</td>\n",
              "      <td>0.450</td>\n",
              "      <td>0.165</td>\n",
              "      <td>0.8870</td>\n",
              "      <td>0.3700</td>\n",
              "      <td>0.2390</td>\n",
              "      <td>0.2490</td>\n",
              "      <td>11</td>\n",
              "    </tr>\n",
              "    <tr>\n",
              "      <th>4173</th>\n",
              "      <td>M</td>\n",
              "      <td>0.590</td>\n",
              "      <td>0.440</td>\n",
              "      <td>0.135</td>\n",
              "      <td>0.9660</td>\n",
              "      <td>0.4390</td>\n",
              "      <td>0.2145</td>\n",
              "      <td>0.2605</td>\n",
              "      <td>10</td>\n",
              "    </tr>\n",
              "    <tr>\n",
              "      <th>4174</th>\n",
              "      <td>M</td>\n",
              "      <td>0.600</td>\n",
              "      <td>0.475</td>\n",
              "      <td>0.205</td>\n",
              "      <td>1.1760</td>\n",
              "      <td>0.5255</td>\n",
              "      <td>0.2875</td>\n",
              "      <td>0.3080</td>\n",
              "      <td>9</td>\n",
              "    </tr>\n",
              "    <tr>\n",
              "      <th>4175</th>\n",
              "      <td>F</td>\n",
              "      <td>0.625</td>\n",
              "      <td>0.485</td>\n",
              "      <td>0.150</td>\n",
              "      <td>1.0945</td>\n",
              "      <td>0.5310</td>\n",
              "      <td>0.2610</td>\n",
              "      <td>0.2960</td>\n",
              "      <td>10</td>\n",
              "    </tr>\n",
              "    <tr>\n",
              "      <th>4176</th>\n",
              "      <td>M</td>\n",
              "      <td>0.710</td>\n",
              "      <td>0.555</td>\n",
              "      <td>0.195</td>\n",
              "      <td>1.9485</td>\n",
              "      <td>0.9455</td>\n",
              "      <td>0.3765</td>\n",
              "      <td>0.4950</td>\n",
              "      <td>12</td>\n",
              "    </tr>\n",
              "  </tbody>\n",
              "</table>\n",
              "</div>\n",
              "      <button class=\"colab-df-convert\" onclick=\"convertToInteractive('df-90d8884d-6906-4af6-b930-c9ff0e1cdd25')\"\n",
              "              title=\"Convert this dataframe to an interactive table.\"\n",
              "              style=\"display:none;\">\n",
              "        \n",
              "  <svg xmlns=\"http://www.w3.org/2000/svg\" height=\"24px\"viewBox=\"0 0 24 24\"\n",
              "       width=\"24px\">\n",
              "    <path d=\"M0 0h24v24H0V0z\" fill=\"none\"/>\n",
              "    <path d=\"M18.56 5.44l.94 2.06.94-2.06 2.06-.94-2.06-.94-.94-2.06-.94 2.06-2.06.94zm-11 1L8.5 8.5l.94-2.06 2.06-.94-2.06-.94L8.5 2.5l-.94 2.06-2.06.94zm10 10l.94 2.06.94-2.06 2.06-.94-2.06-.94-.94-2.06-.94 2.06-2.06.94z\"/><path d=\"M17.41 7.96l-1.37-1.37c-.4-.4-.92-.59-1.43-.59-.52 0-1.04.2-1.43.59L10.3 9.45l-7.72 7.72c-.78.78-.78 2.05 0 2.83L4 21.41c.39.39.9.59 1.41.59.51 0 1.02-.2 1.41-.59l7.78-7.78 2.81-2.81c.8-.78.8-2.07 0-2.86zM5.41 20L4 18.59l7.72-7.72 1.47 1.35L5.41 20z\"/>\n",
              "  </svg>\n",
              "      </button>\n",
              "      \n",
              "  <style>\n",
              "    .colab-df-container {\n",
              "      display:flex;\n",
              "      flex-wrap:wrap;\n",
              "      gap: 12px;\n",
              "    }\n",
              "\n",
              "    .colab-df-convert {\n",
              "      background-color: #E8F0FE;\n",
              "      border: none;\n",
              "      border-radius: 50%;\n",
              "      cursor: pointer;\n",
              "      display: none;\n",
              "      fill: #1967D2;\n",
              "      height: 32px;\n",
              "      padding: 0 0 0 0;\n",
              "      width: 32px;\n",
              "    }\n",
              "\n",
              "    .colab-df-convert:hover {\n",
              "      background-color: #E2EBFA;\n",
              "      box-shadow: 0px 1px 2px rgba(60, 64, 67, 0.3), 0px 1px 3px 1px rgba(60, 64, 67, 0.15);\n",
              "      fill: #174EA6;\n",
              "    }\n",
              "\n",
              "    [theme=dark] .colab-df-convert {\n",
              "      background-color: #3B4455;\n",
              "      fill: #D2E3FC;\n",
              "    }\n",
              "\n",
              "    [theme=dark] .colab-df-convert:hover {\n",
              "      background-color: #434B5C;\n",
              "      box-shadow: 0px 1px 3px 1px rgba(0, 0, 0, 0.15);\n",
              "      filter: drop-shadow(0px 1px 2px rgba(0, 0, 0, 0.3));\n",
              "      fill: #FFFFFF;\n",
              "    }\n",
              "  </style>\n",
              "\n",
              "      <script>\n",
              "        const buttonEl =\n",
              "          document.querySelector('#df-90d8884d-6906-4af6-b930-c9ff0e1cdd25 button.colab-df-convert');\n",
              "        buttonEl.style.display =\n",
              "          google.colab.kernel.accessAllowed ? 'block' : 'none';\n",
              "\n",
              "        async function convertToInteractive(key) {\n",
              "          const element = document.querySelector('#df-90d8884d-6906-4af6-b930-c9ff0e1cdd25');\n",
              "          const dataTable =\n",
              "            await google.colab.kernel.invokeFunction('convertToInteractive',\n",
              "                                                     [key], {});\n",
              "          if (!dataTable) return;\n",
              "\n",
              "          const docLinkHtml = 'Like what you see? Visit the ' +\n",
              "            '<a target=\"_blank\" href=https://colab.research.google.com/notebooks/data_table.ipynb>data table notebook</a>'\n",
              "            + ' to learn more about interactive tables.';\n",
              "          element.innerHTML = '';\n",
              "          dataTable['output_type'] = 'display_data';\n",
              "          await google.colab.output.renderOutput(dataTable, element);\n",
              "          const docLink = document.createElement('div');\n",
              "          docLink.innerHTML = docLinkHtml;\n",
              "          element.appendChild(docLink);\n",
              "        }\n",
              "      </script>\n",
              "    </div>\n",
              "  </div>\n",
              "  "
            ]
          },
          "metadata": {},
          "execution_count": 21
        }
      ]
    },
    {
      "cell_type": "code",
      "source": [
        "d.info()"
      ],
      "metadata": {
        "id": "3Ie2Z08EkjuG",
        "colab": {
          "base_uri": "https://localhost:8080/"
        },
        "outputId": "7a196b85-88b0-47f1-c3c1-a85378c76cd7"
      },
      "execution_count": 22,
      "outputs": [
        {
          "output_type": "stream",
          "name": "stdout",
          "text": [
            "<class 'pandas.core.frame.DataFrame'>\n",
            "RangeIndex: 4177 entries, 0 to 4176\n",
            "Data columns (total 9 columns):\n",
            " #   Column          Non-Null Count  Dtype  \n",
            "---  ------          --------------  -----  \n",
            " 0   Sex             4177 non-null   object \n",
            " 1   Length          4177 non-null   float64\n",
            " 2   Diameter        4177 non-null   float64\n",
            " 3   Height          4177 non-null   float64\n",
            " 4   Whole weight    4177 non-null   float64\n",
            " 5   Shucked weight  4177 non-null   float64\n",
            " 6   Viscera weight  4177 non-null   float64\n",
            " 7   Shell weight    4177 non-null   float64\n",
            " 8   Rings           4177 non-null   int64  \n",
            "dtypes: float64(7), int64(1), object(1)\n",
            "memory usage: 293.8+ KB\n"
          ]
        }
      ]
    },
    {
      "cell_type": "code",
      "source": [
        "d.describe()"
      ],
      "metadata": {
        "id": "MzGgXqdMkmdD",
        "colab": {
          "base_uri": "https://localhost:8080/",
          "height": 300
        },
        "outputId": "1f2e58f3-a8ed-4542-89ab-b5eba6c97525"
      },
      "execution_count": 23,
      "outputs": [
        {
          "output_type": "execute_result",
          "data": {
            "text/plain": [
              "            Length     Diameter       Height  Whole weight  Shucked weight  \\\n",
              "count  4177.000000  4177.000000  4177.000000   4177.000000     4177.000000   \n",
              "mean      0.523992     0.407881     0.139516      0.828742        0.359367   \n",
              "std       0.120093     0.099240     0.041827      0.490389        0.221963   \n",
              "min       0.075000     0.055000     0.000000      0.002000        0.001000   \n",
              "25%       0.450000     0.350000     0.115000      0.441500        0.186000   \n",
              "50%       0.545000     0.425000     0.140000      0.799500        0.336000   \n",
              "75%       0.615000     0.480000     0.165000      1.153000        0.502000   \n",
              "max       0.815000     0.650000     1.130000      2.825500        1.488000   \n",
              "\n",
              "       Viscera weight  Shell weight        Rings  \n",
              "count     4177.000000   4177.000000  4177.000000  \n",
              "mean         0.180594      0.238831     9.933684  \n",
              "std          0.109614      0.139203     3.224169  \n",
              "min          0.000500      0.001500     1.000000  \n",
              "25%          0.093500      0.130000     8.000000  \n",
              "50%          0.171000      0.234000     9.000000  \n",
              "75%          0.253000      0.329000    11.000000  \n",
              "max          0.760000      1.005000    29.000000  "
            ],
            "text/html": [
              "\n",
              "  <div id=\"df-4f3eccb8-81a2-4085-8a6f-d8a2e76f7620\">\n",
              "    <div class=\"colab-df-container\">\n",
              "      <div>\n",
              "<style scoped>\n",
              "    .dataframe tbody tr th:only-of-type {\n",
              "        vertical-align: middle;\n",
              "    }\n",
              "\n",
              "    .dataframe tbody tr th {\n",
              "        vertical-align: top;\n",
              "    }\n",
              "\n",
              "    .dataframe thead th {\n",
              "        text-align: right;\n",
              "    }\n",
              "</style>\n",
              "<table border=\"1\" class=\"dataframe\">\n",
              "  <thead>\n",
              "    <tr style=\"text-align: right;\">\n",
              "      <th></th>\n",
              "      <th>Length</th>\n",
              "      <th>Diameter</th>\n",
              "      <th>Height</th>\n",
              "      <th>Whole weight</th>\n",
              "      <th>Shucked weight</th>\n",
              "      <th>Viscera weight</th>\n",
              "      <th>Shell weight</th>\n",
              "      <th>Rings</th>\n",
              "    </tr>\n",
              "  </thead>\n",
              "  <tbody>\n",
              "    <tr>\n",
              "      <th>count</th>\n",
              "      <td>4177.000000</td>\n",
              "      <td>4177.000000</td>\n",
              "      <td>4177.000000</td>\n",
              "      <td>4177.000000</td>\n",
              "      <td>4177.000000</td>\n",
              "      <td>4177.000000</td>\n",
              "      <td>4177.000000</td>\n",
              "      <td>4177.000000</td>\n",
              "    </tr>\n",
              "    <tr>\n",
              "      <th>mean</th>\n",
              "      <td>0.523992</td>\n",
              "      <td>0.407881</td>\n",
              "      <td>0.139516</td>\n",
              "      <td>0.828742</td>\n",
              "      <td>0.359367</td>\n",
              "      <td>0.180594</td>\n",
              "      <td>0.238831</td>\n",
              "      <td>9.933684</td>\n",
              "    </tr>\n",
              "    <tr>\n",
              "      <th>std</th>\n",
              "      <td>0.120093</td>\n",
              "      <td>0.099240</td>\n",
              "      <td>0.041827</td>\n",
              "      <td>0.490389</td>\n",
              "      <td>0.221963</td>\n",
              "      <td>0.109614</td>\n",
              "      <td>0.139203</td>\n",
              "      <td>3.224169</td>\n",
              "    </tr>\n",
              "    <tr>\n",
              "      <th>min</th>\n",
              "      <td>0.075000</td>\n",
              "      <td>0.055000</td>\n",
              "      <td>0.000000</td>\n",
              "      <td>0.002000</td>\n",
              "      <td>0.001000</td>\n",
              "      <td>0.000500</td>\n",
              "      <td>0.001500</td>\n",
              "      <td>1.000000</td>\n",
              "    </tr>\n",
              "    <tr>\n",
              "      <th>25%</th>\n",
              "      <td>0.450000</td>\n",
              "      <td>0.350000</td>\n",
              "      <td>0.115000</td>\n",
              "      <td>0.441500</td>\n",
              "      <td>0.186000</td>\n",
              "      <td>0.093500</td>\n",
              "      <td>0.130000</td>\n",
              "      <td>8.000000</td>\n",
              "    </tr>\n",
              "    <tr>\n",
              "      <th>50%</th>\n",
              "      <td>0.545000</td>\n",
              "      <td>0.425000</td>\n",
              "      <td>0.140000</td>\n",
              "      <td>0.799500</td>\n",
              "      <td>0.336000</td>\n",
              "      <td>0.171000</td>\n",
              "      <td>0.234000</td>\n",
              "      <td>9.000000</td>\n",
              "    </tr>\n",
              "    <tr>\n",
              "      <th>75%</th>\n",
              "      <td>0.615000</td>\n",
              "      <td>0.480000</td>\n",
              "      <td>0.165000</td>\n",
              "      <td>1.153000</td>\n",
              "      <td>0.502000</td>\n",
              "      <td>0.253000</td>\n",
              "      <td>0.329000</td>\n",
              "      <td>11.000000</td>\n",
              "    </tr>\n",
              "    <tr>\n",
              "      <th>max</th>\n",
              "      <td>0.815000</td>\n",
              "      <td>0.650000</td>\n",
              "      <td>1.130000</td>\n",
              "      <td>2.825500</td>\n",
              "      <td>1.488000</td>\n",
              "      <td>0.760000</td>\n",
              "      <td>1.005000</td>\n",
              "      <td>29.000000</td>\n",
              "    </tr>\n",
              "  </tbody>\n",
              "</table>\n",
              "</div>\n",
              "      <button class=\"colab-df-convert\" onclick=\"convertToInteractive('df-4f3eccb8-81a2-4085-8a6f-d8a2e76f7620')\"\n",
              "              title=\"Convert this dataframe to an interactive table.\"\n",
              "              style=\"display:none;\">\n",
              "        \n",
              "  <svg xmlns=\"http://www.w3.org/2000/svg\" height=\"24px\"viewBox=\"0 0 24 24\"\n",
              "       width=\"24px\">\n",
              "    <path d=\"M0 0h24v24H0V0z\" fill=\"none\"/>\n",
              "    <path d=\"M18.56 5.44l.94 2.06.94-2.06 2.06-.94-2.06-.94-.94-2.06-.94 2.06-2.06.94zm-11 1L8.5 8.5l.94-2.06 2.06-.94-2.06-.94L8.5 2.5l-.94 2.06-2.06.94zm10 10l.94 2.06.94-2.06 2.06-.94-2.06-.94-.94-2.06-.94 2.06-2.06.94z\"/><path d=\"M17.41 7.96l-1.37-1.37c-.4-.4-.92-.59-1.43-.59-.52 0-1.04.2-1.43.59L10.3 9.45l-7.72 7.72c-.78.78-.78 2.05 0 2.83L4 21.41c.39.39.9.59 1.41.59.51 0 1.02-.2 1.41-.59l7.78-7.78 2.81-2.81c.8-.78.8-2.07 0-2.86zM5.41 20L4 18.59l7.72-7.72 1.47 1.35L5.41 20z\"/>\n",
              "  </svg>\n",
              "      </button>\n",
              "      \n",
              "  <style>\n",
              "    .colab-df-container {\n",
              "      display:flex;\n",
              "      flex-wrap:wrap;\n",
              "      gap: 12px;\n",
              "    }\n",
              "\n",
              "    .colab-df-convert {\n",
              "      background-color: #E8F0FE;\n",
              "      border: none;\n",
              "      border-radius: 50%;\n",
              "      cursor: pointer;\n",
              "      display: none;\n",
              "      fill: #1967D2;\n",
              "      height: 32px;\n",
              "      padding: 0 0 0 0;\n",
              "      width: 32px;\n",
              "    }\n",
              "\n",
              "    .colab-df-convert:hover {\n",
              "      background-color: #E2EBFA;\n",
              "      box-shadow: 0px 1px 2px rgba(60, 64, 67, 0.3), 0px 1px 3px 1px rgba(60, 64, 67, 0.15);\n",
              "      fill: #174EA6;\n",
              "    }\n",
              "\n",
              "    [theme=dark] .colab-df-convert {\n",
              "      background-color: #3B4455;\n",
              "      fill: #D2E3FC;\n",
              "    }\n",
              "\n",
              "    [theme=dark] .colab-df-convert:hover {\n",
              "      background-color: #434B5C;\n",
              "      box-shadow: 0px 1px 3px 1px rgba(0, 0, 0, 0.15);\n",
              "      filter: drop-shadow(0px 1px 2px rgba(0, 0, 0, 0.3));\n",
              "      fill: #FFFFFF;\n",
              "    }\n",
              "  </style>\n",
              "\n",
              "      <script>\n",
              "        const buttonEl =\n",
              "          document.querySelector('#df-4f3eccb8-81a2-4085-8a6f-d8a2e76f7620 button.colab-df-convert');\n",
              "        buttonEl.style.display =\n",
              "          google.colab.kernel.accessAllowed ? 'block' : 'none';\n",
              "\n",
              "        async function convertToInteractive(key) {\n",
              "          const element = document.querySelector('#df-4f3eccb8-81a2-4085-8a6f-d8a2e76f7620');\n",
              "          const dataTable =\n",
              "            await google.colab.kernel.invokeFunction('convertToInteractive',\n",
              "                                                     [key], {});\n",
              "          if (!dataTable) return;\n",
              "\n",
              "          const docLinkHtml = 'Like what you see? Visit the ' +\n",
              "            '<a target=\"_blank\" href=https://colab.research.google.com/notebooks/data_table.ipynb>data table notebook</a>'\n",
              "            + ' to learn more about interactive tables.';\n",
              "          element.innerHTML = '';\n",
              "          dataTable['output_type'] = 'display_data';\n",
              "          await google.colab.output.renderOutput(dataTable, element);\n",
              "          const docLink = document.createElement('div');\n",
              "          docLink.innerHTML = docLinkHtml;\n",
              "          element.appendChild(docLink);\n",
              "        }\n",
              "      </script>\n",
              "    </div>\n",
              "  </div>\n",
              "  "
            ]
          },
          "metadata": {},
          "execution_count": 23
        }
      ]
    },
    {
      "cell_type": "code",
      "source": [
        "d.mode().T"
      ],
      "metadata": {
        "id": "zpKj-qTSkpNW",
        "colab": {
          "base_uri": "https://localhost:8080/",
          "height": 332
        },
        "outputId": "f87d0e6b-0932-442d-cede-1ae7d4628db9"
      },
      "execution_count": 25,
      "outputs": [
        {
          "output_type": "execute_result",
          "data": {
            "text/plain": [
              "                     0      1\n",
              "Sex                  M    NaN\n",
              "Length            0.55  0.625\n",
              "Diameter          0.45    NaN\n",
              "Height            0.15    NaN\n",
              "Whole weight    0.2225    NaN\n",
              "Shucked weight   0.175    NaN\n",
              "Viscera weight  0.1715    NaN\n",
              "Shell weight     0.275    NaN\n",
              "Rings              9.0    NaN"
            ],
            "text/html": [
              "\n",
              "  <div id=\"df-d2cdf507-e189-43f1-889f-230cba995668\">\n",
              "    <div class=\"colab-df-container\">\n",
              "      <div>\n",
              "<style scoped>\n",
              "    .dataframe tbody tr th:only-of-type {\n",
              "        vertical-align: middle;\n",
              "    }\n",
              "\n",
              "    .dataframe tbody tr th {\n",
              "        vertical-align: top;\n",
              "    }\n",
              "\n",
              "    .dataframe thead th {\n",
              "        text-align: right;\n",
              "    }\n",
              "</style>\n",
              "<table border=\"1\" class=\"dataframe\">\n",
              "  <thead>\n",
              "    <tr style=\"text-align: right;\">\n",
              "      <th></th>\n",
              "      <th>0</th>\n",
              "      <th>1</th>\n",
              "    </tr>\n",
              "  </thead>\n",
              "  <tbody>\n",
              "    <tr>\n",
              "      <th>Sex</th>\n",
              "      <td>M</td>\n",
              "      <td>NaN</td>\n",
              "    </tr>\n",
              "    <tr>\n",
              "      <th>Length</th>\n",
              "      <td>0.55</td>\n",
              "      <td>0.625</td>\n",
              "    </tr>\n",
              "    <tr>\n",
              "      <th>Diameter</th>\n",
              "      <td>0.45</td>\n",
              "      <td>NaN</td>\n",
              "    </tr>\n",
              "    <tr>\n",
              "      <th>Height</th>\n",
              "      <td>0.15</td>\n",
              "      <td>NaN</td>\n",
              "    </tr>\n",
              "    <tr>\n",
              "      <th>Whole weight</th>\n",
              "      <td>0.2225</td>\n",
              "      <td>NaN</td>\n",
              "    </tr>\n",
              "    <tr>\n",
              "      <th>Shucked weight</th>\n",
              "      <td>0.175</td>\n",
              "      <td>NaN</td>\n",
              "    </tr>\n",
              "    <tr>\n",
              "      <th>Viscera weight</th>\n",
              "      <td>0.1715</td>\n",
              "      <td>NaN</td>\n",
              "    </tr>\n",
              "    <tr>\n",
              "      <th>Shell weight</th>\n",
              "      <td>0.275</td>\n",
              "      <td>NaN</td>\n",
              "    </tr>\n",
              "    <tr>\n",
              "      <th>Rings</th>\n",
              "      <td>9.0</td>\n",
              "      <td>NaN</td>\n",
              "    </tr>\n",
              "  </tbody>\n",
              "</table>\n",
              "</div>\n",
              "      <button class=\"colab-df-convert\" onclick=\"convertToInteractive('df-d2cdf507-e189-43f1-889f-230cba995668')\"\n",
              "              title=\"Convert this dataframe to an interactive table.\"\n",
              "              style=\"display:none;\">\n",
              "        \n",
              "  <svg xmlns=\"http://www.w3.org/2000/svg\" height=\"24px\"viewBox=\"0 0 24 24\"\n",
              "       width=\"24px\">\n",
              "    <path d=\"M0 0h24v24H0V0z\" fill=\"none\"/>\n",
              "    <path d=\"M18.56 5.44l.94 2.06.94-2.06 2.06-.94-2.06-.94-.94-2.06-.94 2.06-2.06.94zm-11 1L8.5 8.5l.94-2.06 2.06-.94-2.06-.94L8.5 2.5l-.94 2.06-2.06.94zm10 10l.94 2.06.94-2.06 2.06-.94-2.06-.94-.94-2.06-.94 2.06-2.06.94z\"/><path d=\"M17.41 7.96l-1.37-1.37c-.4-.4-.92-.59-1.43-.59-.52 0-1.04.2-1.43.59L10.3 9.45l-7.72 7.72c-.78.78-.78 2.05 0 2.83L4 21.41c.39.39.9.59 1.41.59.51 0 1.02-.2 1.41-.59l7.78-7.78 2.81-2.81c.8-.78.8-2.07 0-2.86zM5.41 20L4 18.59l7.72-7.72 1.47 1.35L5.41 20z\"/>\n",
              "  </svg>\n",
              "      </button>\n",
              "      \n",
              "  <style>\n",
              "    .colab-df-container {\n",
              "      display:flex;\n",
              "      flex-wrap:wrap;\n",
              "      gap: 12px;\n",
              "    }\n",
              "\n",
              "    .colab-df-convert {\n",
              "      background-color: #E8F0FE;\n",
              "      border: none;\n",
              "      border-radius: 50%;\n",
              "      cursor: pointer;\n",
              "      display: none;\n",
              "      fill: #1967D2;\n",
              "      height: 32px;\n",
              "      padding: 0 0 0 0;\n",
              "      width: 32px;\n",
              "    }\n",
              "\n",
              "    .colab-df-convert:hover {\n",
              "      background-color: #E2EBFA;\n",
              "      box-shadow: 0px 1px 2px rgba(60, 64, 67, 0.3), 0px 1px 3px 1px rgba(60, 64, 67, 0.15);\n",
              "      fill: #174EA6;\n",
              "    }\n",
              "\n",
              "    [theme=dark] .colab-df-convert {\n",
              "      background-color: #3B4455;\n",
              "      fill: #D2E3FC;\n",
              "    }\n",
              "\n",
              "    [theme=dark] .colab-df-convert:hover {\n",
              "      background-color: #434B5C;\n",
              "      box-shadow: 0px 1px 3px 1px rgba(0, 0, 0, 0.15);\n",
              "      filter: drop-shadow(0px 1px 2px rgba(0, 0, 0, 0.3));\n",
              "      fill: #FFFFFF;\n",
              "    }\n",
              "  </style>\n",
              "\n",
              "      <script>\n",
              "        const buttonEl =\n",
              "          document.querySelector('#df-d2cdf507-e189-43f1-889f-230cba995668 button.colab-df-convert');\n",
              "        buttonEl.style.display =\n",
              "          google.colab.kernel.accessAllowed ? 'block' : 'none';\n",
              "\n",
              "        async function convertToInteractive(key) {\n",
              "          const element = document.querySelector('#df-d2cdf507-e189-43f1-889f-230cba995668');\n",
              "          const dataTable =\n",
              "            await google.colab.kernel.invokeFunction('convertToInteractive',\n",
              "                                                     [key], {});\n",
              "          if (!dataTable) return;\n",
              "\n",
              "          const docLinkHtml = 'Like what you see? Visit the ' +\n",
              "            '<a target=\"_blank\" href=https://colab.research.google.com/notebooks/data_table.ipynb>data table notebook</a>'\n",
              "            + ' to learn more about interactive tables.';\n",
              "          element.innerHTML = '';\n",
              "          dataTable['output_type'] = 'display_data';\n",
              "          await google.colab.output.renderOutput(dataTable, element);\n",
              "          const docLink = document.createElement('div');\n",
              "          docLink.innerHTML = docLinkHtml;\n",
              "          element.appendChild(docLink);\n",
              "        }\n",
              "      </script>\n",
              "    </div>\n",
              "  </div>\n",
              "  "
            ]
          },
          "metadata": {},
          "execution_count": 25
        }
      ]
    },
    {
      "cell_type": "code",
      "source": [
        "d.shape"
      ],
      "metadata": {
        "id": "WeWb6_RYkw9S",
        "colab": {
          "base_uri": "https://localhost:8080/"
        },
        "outputId": "a4a97755-892d-43ad-a119-bbd6eba71a93"
      },
      "execution_count": 26,
      "outputs": [
        {
          "output_type": "execute_result",
          "data": {
            "text/plain": [
              "(4177, 9)"
            ]
          },
          "metadata": {},
          "execution_count": 26
        }
      ]
    },
    {
      "cell_type": "code",
      "source": [
        "d.kurt()"
      ],
      "metadata": {
        "id": "ossJkPePkzw9",
        "colab": {
          "base_uri": "https://localhost:8080/"
        },
        "outputId": "a15f2bf6-ff55-4c83-fce5-795243f1f1a1"
      },
      "execution_count": 27,
      "outputs": [
        {
          "output_type": "execute_result",
          "data": {
            "text/plain": [
              "Length             0.064621\n",
              "Diameter          -0.045476\n",
              "Height            76.025509\n",
              "Whole weight      -0.023644\n",
              "Shucked weight     0.595124\n",
              "Viscera weight     0.084012\n",
              "Shell weight       0.531926\n",
              "Rings              2.330687\n",
              "dtype: float64"
            ]
          },
          "metadata": {},
          "execution_count": 27
        }
      ]
    },
    {
      "cell_type": "code",
      "source": [
        "d.skew()"
      ],
      "metadata": {
        "id": "QESZwCGhk2Vr",
        "colab": {
          "base_uri": "https://localhost:8080/"
        },
        "outputId": "ad48e56b-d174-4f03-fea2-861b5adadbe6"
      },
      "execution_count": 28,
      "outputs": [
        {
          "output_type": "execute_result",
          "data": {
            "text/plain": [
              "Length           -0.639873\n",
              "Diameter         -0.609198\n",
              "Height            3.128817\n",
              "Whole weight      0.530959\n",
              "Shucked weight    0.719098\n",
              "Viscera weight    0.591852\n",
              "Shell weight      0.620927\n",
              "Rings             1.114102\n",
              "dtype: float64"
            ]
          },
          "metadata": {},
          "execution_count": 28
        }
      ]
    },
    {
      "cell_type": "code",
      "source": [
        "d.var()"
      ],
      "metadata": {
        "id": "N195LpUck5Ee",
        "colab": {
          "base_uri": "https://localhost:8080/"
        },
        "outputId": "02120cae-4450-4e5b-b692-d92bdece9b94"
      },
      "execution_count": 29,
      "outputs": [
        {
          "output_type": "execute_result",
          "data": {
            "text/plain": [
              "Length             0.014422\n",
              "Diameter           0.009849\n",
              "Height             0.001750\n",
              "Whole weight       0.240481\n",
              "Shucked weight     0.049268\n",
              "Viscera weight     0.012015\n",
              "Shell weight       0.019377\n",
              "Rings             10.395266\n",
              "dtype: float64"
            ]
          },
          "metadata": {},
          "execution_count": 29
        }
      ]
    },
    {
      "cell_type": "code",
      "source": [
        "d.nunique()"
      ],
      "metadata": {
        "id": "xnqTccEPk9F9",
        "colab": {
          "base_uri": "https://localhost:8080/"
        },
        "outputId": "494921bf-dfaf-410b-a180-e6fa86aedf97"
      },
      "execution_count": 30,
      "outputs": [
        {
          "output_type": "execute_result",
          "data": {
            "text/plain": [
              "Sex                  3\n",
              "Length             134\n",
              "Diameter           111\n",
              "Height              51\n",
              "Whole weight      2429\n",
              "Shucked weight    1515\n",
              "Viscera weight     880\n",
              "Shell weight       926\n",
              "Rings               28\n",
              "dtype: int64"
            ]
          },
          "metadata": {},
          "execution_count": 30
        }
      ]
    },
    {
      "cell_type": "markdown",
      "source": [
        "# **4. Check for Missing values and deal with them.**"
      ],
      "metadata": {
        "id": "XMv_pOxLeckJ"
      }
    },
    {
      "cell_type": "code",
      "source": [
        "#finding missing values\n",
        "\n",
        "d.isna()"
      ],
      "metadata": {
        "id": "ff-KVq-Lk_NE",
        "colab": {
          "base_uri": "https://localhost:8080/",
          "height": 424
        },
        "outputId": "cd547078-351e-47d5-fa5d-c1e01ae8018c"
      },
      "execution_count": 31,
      "outputs": [
        {
          "output_type": "execute_result",
          "data": {
            "text/plain": [
              "        Sex  Length  Diameter  Height  Whole weight  Shucked weight  \\\n",
              "0     False   False     False   False         False           False   \n",
              "1     False   False     False   False         False           False   \n",
              "2     False   False     False   False         False           False   \n",
              "3     False   False     False   False         False           False   \n",
              "4     False   False     False   False         False           False   \n",
              "...     ...     ...       ...     ...           ...             ...   \n",
              "4172  False   False     False   False         False           False   \n",
              "4173  False   False     False   False         False           False   \n",
              "4174  False   False     False   False         False           False   \n",
              "4175  False   False     False   False         False           False   \n",
              "4176  False   False     False   False         False           False   \n",
              "\n",
              "      Viscera weight  Shell weight  Rings  \n",
              "0              False         False  False  \n",
              "1              False         False  False  \n",
              "2              False         False  False  \n",
              "3              False         False  False  \n",
              "4              False         False  False  \n",
              "...              ...           ...    ...  \n",
              "4172           False         False  False  \n",
              "4173           False         False  False  \n",
              "4174           False         False  False  \n",
              "4175           False         False  False  \n",
              "4176           False         False  False  \n",
              "\n",
              "[4177 rows x 9 columns]"
            ],
            "text/html": [
              "\n",
              "  <div id=\"df-b7d4bbbd-ffc7-4671-aff1-754854bf7481\">\n",
              "    <div class=\"colab-df-container\">\n",
              "      <div>\n",
              "<style scoped>\n",
              "    .dataframe tbody tr th:only-of-type {\n",
              "        vertical-align: middle;\n",
              "    }\n",
              "\n",
              "    .dataframe tbody tr th {\n",
              "        vertical-align: top;\n",
              "    }\n",
              "\n",
              "    .dataframe thead th {\n",
              "        text-align: right;\n",
              "    }\n",
              "</style>\n",
              "<table border=\"1\" class=\"dataframe\">\n",
              "  <thead>\n",
              "    <tr style=\"text-align: right;\">\n",
              "      <th></th>\n",
              "      <th>Sex</th>\n",
              "      <th>Length</th>\n",
              "      <th>Diameter</th>\n",
              "      <th>Height</th>\n",
              "      <th>Whole weight</th>\n",
              "      <th>Shucked weight</th>\n",
              "      <th>Viscera weight</th>\n",
              "      <th>Shell weight</th>\n",
              "      <th>Rings</th>\n",
              "    </tr>\n",
              "  </thead>\n",
              "  <tbody>\n",
              "    <tr>\n",
              "      <th>0</th>\n",
              "      <td>False</td>\n",
              "      <td>False</td>\n",
              "      <td>False</td>\n",
              "      <td>False</td>\n",
              "      <td>False</td>\n",
              "      <td>False</td>\n",
              "      <td>False</td>\n",
              "      <td>False</td>\n",
              "      <td>False</td>\n",
              "    </tr>\n",
              "    <tr>\n",
              "      <th>1</th>\n",
              "      <td>False</td>\n",
              "      <td>False</td>\n",
              "      <td>False</td>\n",
              "      <td>False</td>\n",
              "      <td>False</td>\n",
              "      <td>False</td>\n",
              "      <td>False</td>\n",
              "      <td>False</td>\n",
              "      <td>False</td>\n",
              "    </tr>\n",
              "    <tr>\n",
              "      <th>2</th>\n",
              "      <td>False</td>\n",
              "      <td>False</td>\n",
              "      <td>False</td>\n",
              "      <td>False</td>\n",
              "      <td>False</td>\n",
              "      <td>False</td>\n",
              "      <td>False</td>\n",
              "      <td>False</td>\n",
              "      <td>False</td>\n",
              "    </tr>\n",
              "    <tr>\n",
              "      <th>3</th>\n",
              "      <td>False</td>\n",
              "      <td>False</td>\n",
              "      <td>False</td>\n",
              "      <td>False</td>\n",
              "      <td>False</td>\n",
              "      <td>False</td>\n",
              "      <td>False</td>\n",
              "      <td>False</td>\n",
              "      <td>False</td>\n",
              "    </tr>\n",
              "    <tr>\n",
              "      <th>4</th>\n",
              "      <td>False</td>\n",
              "      <td>False</td>\n",
              "      <td>False</td>\n",
              "      <td>False</td>\n",
              "      <td>False</td>\n",
              "      <td>False</td>\n",
              "      <td>False</td>\n",
              "      <td>False</td>\n",
              "      <td>False</td>\n",
              "    </tr>\n",
              "    <tr>\n",
              "      <th>...</th>\n",
              "      <td>...</td>\n",
              "      <td>...</td>\n",
              "      <td>...</td>\n",
              "      <td>...</td>\n",
              "      <td>...</td>\n",
              "      <td>...</td>\n",
              "      <td>...</td>\n",
              "      <td>...</td>\n",
              "      <td>...</td>\n",
              "    </tr>\n",
              "    <tr>\n",
              "      <th>4172</th>\n",
              "      <td>False</td>\n",
              "      <td>False</td>\n",
              "      <td>False</td>\n",
              "      <td>False</td>\n",
              "      <td>False</td>\n",
              "      <td>False</td>\n",
              "      <td>False</td>\n",
              "      <td>False</td>\n",
              "      <td>False</td>\n",
              "    </tr>\n",
              "    <tr>\n",
              "      <th>4173</th>\n",
              "      <td>False</td>\n",
              "      <td>False</td>\n",
              "      <td>False</td>\n",
              "      <td>False</td>\n",
              "      <td>False</td>\n",
              "      <td>False</td>\n",
              "      <td>False</td>\n",
              "      <td>False</td>\n",
              "      <td>False</td>\n",
              "    </tr>\n",
              "    <tr>\n",
              "      <th>4174</th>\n",
              "      <td>False</td>\n",
              "      <td>False</td>\n",
              "      <td>False</td>\n",
              "      <td>False</td>\n",
              "      <td>False</td>\n",
              "      <td>False</td>\n",
              "      <td>False</td>\n",
              "      <td>False</td>\n",
              "      <td>False</td>\n",
              "    </tr>\n",
              "    <tr>\n",
              "      <th>4175</th>\n",
              "      <td>False</td>\n",
              "      <td>False</td>\n",
              "      <td>False</td>\n",
              "      <td>False</td>\n",
              "      <td>False</td>\n",
              "      <td>False</td>\n",
              "      <td>False</td>\n",
              "      <td>False</td>\n",
              "      <td>False</td>\n",
              "    </tr>\n",
              "    <tr>\n",
              "      <th>4176</th>\n",
              "      <td>False</td>\n",
              "      <td>False</td>\n",
              "      <td>False</td>\n",
              "      <td>False</td>\n",
              "      <td>False</td>\n",
              "      <td>False</td>\n",
              "      <td>False</td>\n",
              "      <td>False</td>\n",
              "      <td>False</td>\n",
              "    </tr>\n",
              "  </tbody>\n",
              "</table>\n",
              "<p>4177 rows × 9 columns</p>\n",
              "</div>\n",
              "      <button class=\"colab-df-convert\" onclick=\"convertToInteractive('df-b7d4bbbd-ffc7-4671-aff1-754854bf7481')\"\n",
              "              title=\"Convert this dataframe to an interactive table.\"\n",
              "              style=\"display:none;\">\n",
              "        \n",
              "  <svg xmlns=\"http://www.w3.org/2000/svg\" height=\"24px\"viewBox=\"0 0 24 24\"\n",
              "       width=\"24px\">\n",
              "    <path d=\"M0 0h24v24H0V0z\" fill=\"none\"/>\n",
              "    <path d=\"M18.56 5.44l.94 2.06.94-2.06 2.06-.94-2.06-.94-.94-2.06-.94 2.06-2.06.94zm-11 1L8.5 8.5l.94-2.06 2.06-.94-2.06-.94L8.5 2.5l-.94 2.06-2.06.94zm10 10l.94 2.06.94-2.06 2.06-.94-2.06-.94-.94-2.06-.94 2.06-2.06.94z\"/><path d=\"M17.41 7.96l-1.37-1.37c-.4-.4-.92-.59-1.43-.59-.52 0-1.04.2-1.43.59L10.3 9.45l-7.72 7.72c-.78.78-.78 2.05 0 2.83L4 21.41c.39.39.9.59 1.41.59.51 0 1.02-.2 1.41-.59l7.78-7.78 2.81-2.81c.8-.78.8-2.07 0-2.86zM5.41 20L4 18.59l7.72-7.72 1.47 1.35L5.41 20z\"/>\n",
              "  </svg>\n",
              "      </button>\n",
              "      \n",
              "  <style>\n",
              "    .colab-df-container {\n",
              "      display:flex;\n",
              "      flex-wrap:wrap;\n",
              "      gap: 12px;\n",
              "    }\n",
              "\n",
              "    .colab-df-convert {\n",
              "      background-color: #E8F0FE;\n",
              "      border: none;\n",
              "      border-radius: 50%;\n",
              "      cursor: pointer;\n",
              "      display: none;\n",
              "      fill: #1967D2;\n",
              "      height: 32px;\n",
              "      padding: 0 0 0 0;\n",
              "      width: 32px;\n",
              "    }\n",
              "\n",
              "    .colab-df-convert:hover {\n",
              "      background-color: #E2EBFA;\n",
              "      box-shadow: 0px 1px 2px rgba(60, 64, 67, 0.3), 0px 1px 3px 1px rgba(60, 64, 67, 0.15);\n",
              "      fill: #174EA6;\n",
              "    }\n",
              "\n",
              "    [theme=dark] .colab-df-convert {\n",
              "      background-color: #3B4455;\n",
              "      fill: #D2E3FC;\n",
              "    }\n",
              "\n",
              "    [theme=dark] .colab-df-convert:hover {\n",
              "      background-color: #434B5C;\n",
              "      box-shadow: 0px 1px 3px 1px rgba(0, 0, 0, 0.15);\n",
              "      filter: drop-shadow(0px 1px 2px rgba(0, 0, 0, 0.3));\n",
              "      fill: #FFFFFF;\n",
              "    }\n",
              "  </style>\n",
              "\n",
              "      <script>\n",
              "        const buttonEl =\n",
              "          document.querySelector('#df-b7d4bbbd-ffc7-4671-aff1-754854bf7481 button.colab-df-convert');\n",
              "        buttonEl.style.display =\n",
              "          google.colab.kernel.accessAllowed ? 'block' : 'none';\n",
              "\n",
              "        async function convertToInteractive(key) {\n",
              "          const element = document.querySelector('#df-b7d4bbbd-ffc7-4671-aff1-754854bf7481');\n",
              "          const dataTable =\n",
              "            await google.colab.kernel.invokeFunction('convertToInteractive',\n",
              "                                                     [key], {});\n",
              "          if (!dataTable) return;\n",
              "\n",
              "          const docLinkHtml = 'Like what you see? Visit the ' +\n",
              "            '<a target=\"_blank\" href=https://colab.research.google.com/notebooks/data_table.ipynb>data table notebook</a>'\n",
              "            + ' to learn more about interactive tables.';\n",
              "          element.innerHTML = '';\n",
              "          dataTable['output_type'] = 'display_data';\n",
              "          await google.colab.output.renderOutput(dataTable, element);\n",
              "          const docLink = document.createElement('div');\n",
              "          docLink.innerHTML = docLinkHtml;\n",
              "          element.appendChild(docLink);\n",
              "        }\n",
              "      </script>\n",
              "    </div>\n",
              "  </div>\n",
              "  "
            ]
          },
          "metadata": {},
          "execution_count": 31
        }
      ]
    },
    {
      "cell_type": "code",
      "source": [
        "d.isna().any()"
      ],
      "metadata": {
        "id": "nWPHVHXAlCbL",
        "colab": {
          "base_uri": "https://localhost:8080/"
        },
        "outputId": "753bb2b8-56e2-44c0-ca64-fd97a7e5c1b7"
      },
      "execution_count": 32,
      "outputs": [
        {
          "output_type": "execute_result",
          "data": {
            "text/plain": [
              "Sex               False\n",
              "Length            False\n",
              "Diameter          False\n",
              "Height            False\n",
              "Whole weight      False\n",
              "Shucked weight    False\n",
              "Viscera weight    False\n",
              "Shell weight      False\n",
              "Rings             False\n",
              "dtype: bool"
            ]
          },
          "metadata": {},
          "execution_count": 32
        }
      ]
    },
    {
      "cell_type": "code",
      "source": [
        "d.isna().sum()"
      ],
      "metadata": {
        "id": "3IS-mTN5lFwe",
        "colab": {
          "base_uri": "https://localhost:8080/"
        },
        "outputId": "14cb8817-5e1c-4f87-c0ef-160a745661a8"
      },
      "execution_count": 33,
      "outputs": [
        {
          "output_type": "execute_result",
          "data": {
            "text/plain": [
              "Sex               0\n",
              "Length            0\n",
              "Diameter          0\n",
              "Height            0\n",
              "Whole weight      0\n",
              "Shucked weight    0\n",
              "Viscera weight    0\n",
              "Shell weight      0\n",
              "Rings             0\n",
              "dtype: int64"
            ]
          },
          "metadata": {},
          "execution_count": 33
        }
      ]
    },
    {
      "cell_type": "code",
      "source": [
        "d.isna().any().sum()\n",
        "#no missing values"
      ],
      "metadata": {
        "id": "gGU7zylQlIAQ",
        "colab": {
          "base_uri": "https://localhost:8080/"
        },
        "outputId": "abaf2635-5705-4805-d1e4-3a8cc4e6509b"
      },
      "execution_count": 34,
      "outputs": [
        {
          "output_type": "execute_result",
          "data": {
            "text/plain": [
              "0"
            ]
          },
          "metadata": {},
          "execution_count": 34
        }
      ]
    },
    {
      "cell_type": "markdown",
      "source": [
        "# **5. Find the outliers and replace them outliers.**"
      ],
      "metadata": {
        "id": "YC7oyKvdfIVZ"
      }
    },
    {
      "cell_type": "code",
      "source": [
        "#finding outliers\n",
        "\n",
        "sns.boxplot(d['Diameter'])"
      ],
      "metadata": {
        "id": "2ZKX0FculLVs",
        "colab": {
          "base_uri": "https://localhost:8080/",
          "height": 296
        },
        "outputId": "bacdf79f-ecd1-42bb-b991-6150418e2927"
      },
      "execution_count": 35,
      "outputs": [
        {
          "output_type": "execute_result",
          "data": {
            "text/plain": [
              "<matplotlib.axes._subplots.AxesSubplot at 0x7fcb0c648710>"
            ]
          },
          "metadata": {},
          "execution_count": 35
        },
        {
          "output_type": "display_data",
          "data": {
            "text/plain": [
              "<Figure size 432x288 with 1 Axes>"
            ],
            "image/png": "[encoded data removed]"
          },
          "metadata": {
            "needs_background": "light"
          }
        }
      ]
    },
    {
      "cell_type": "code",
      "source": [
        "#handling outliers\n",
        "\n",
        "qnt=d.quantile(q=[0.25,0.75])\n",
        "qnt"
      ],
      "metadata": {
        "id": "9gwRevWClN2j",
        "colab": {
          "base_uri": "https://localhost:8080/",
          "height": 112
        },
        "outputId": "ce0b40a1-7ffe-49a3-8158-3da016f80a68"
      },
      "execution_count": 36,
      "outputs": [
        {
          "output_type": "execute_result",
          "data": {
            "text/plain": [
              "      Length  Diameter  Height  Whole weight  Shucked weight  Viscera weight  \\\n",
              "0.25   0.450      0.35   0.115        0.4415           0.186          0.0935   \n",
              "0.75   0.615      0.48   0.165        1.1530           0.502          0.2530   \n",
              "\n",
              "      Shell weight  Rings  \n",
              "0.25         0.130    8.0  \n",
              "0.75         0.329   11.0  "
            ],
            "text/html": [
              "\n",
              "  <div id=\"df-4f845716-ddca-4cfd-bac0-bd600d0ae665\">\n",
              "    <div class=\"colab-df-container\">\n",
              "      <div>\n",
              "<style scoped>\n",
              "    .dataframe tbody tr th:only-of-type {\n",
              "        vertical-align: middle;\n",
              "    }\n",
              "\n",
              "    .dataframe tbody tr th {\n",
              "        vertical-align: top;\n",
              "    }\n",
              "\n",
              "    .dataframe thead th {\n",
              "        text-align: right;\n",
              "    }\n",
              "</style>\n",
              "<table border=\"1\" class=\"dataframe\">\n",
              "  <thead>\n",
              "    <tr style=\"text-align: right;\">\n",
              "      <th></th>\n",
              "      <th>Length</th>\n",
              "      <th>Diameter</th>\n",
              "      <th>Height</th>\n",
              "      <th>Whole weight</th>\n",
              "      <th>Shucked weight</th>\n",
              "      <th>Viscera weight</th>\n",
              "      <th>Shell weight</th>\n",
              "      <th>Rings</th>\n",
              "    </tr>\n",
              "  </thead>\n",
              "  <tbody>\n",
              "    <tr>\n",
              "      <th>0.25</th>\n",
              "      <td>0.450</td>\n",
              "      <td>0.35</td>\n",
              "      <td>0.115</td>\n",
              "      <td>0.4415</td>\n",
              "      <td>0.186</td>\n",
              "      <td>0.0935</td>\n",
              "      <td>0.130</td>\n",
              "      <td>8.0</td>\n",
              "    </tr>\n",
              "    <tr>\n",
              "      <th>0.75</th>\n",
              "      <td>0.615</td>\n",
              "      <td>0.48</td>\n",
              "      <td>0.165</td>\n",
              "      <td>1.1530</td>\n",
              "      <td>0.502</td>\n",
              "      <td>0.2530</td>\n",
              "      <td>0.329</td>\n",
              "      <td>11.0</td>\n",
              "    </tr>\n",
              "  </tbody>\n",
              "</table>\n",
              "</div>\n",
              "      <button class=\"colab-df-convert\" onclick=\"convertToInteractive('df-4f845716-ddca-4cfd-bac0-bd600d0ae665')\"\n",
              "              title=\"Convert this dataframe to an interactive table.\"\n",
              "              style=\"display:none;\">\n",
              "        \n",
              "  <svg xmlns=\"http://www.w3.org/2000/svg\" height=\"24px\"viewBox=\"0 0 24 24\"\n",
              "       width=\"24px\">\n",
              "    <path d=\"M0 0h24v24H0V0z\" fill=\"none\"/>\n",
              "    <path d=\"M18.56 5.44l.94 2.06.94-2.06 2.06-.94-2.06-.94-.94-2.06-.94 2.06-2.06.94zm-11 1L8.5 8.5l.94-2.06 2.06-.94-2.06-.94L8.5 2.5l-.94 2.06-2.06.94zm10 10l.94 2.06.94-2.06 2.06-.94-2.06-.94-.94-2.06-.94 2.06-2.06.94z\"/><path d=\"M17.41 7.96l-1.37-1.37c-.4-.4-.92-.59-1.43-.59-.52 0-1.04.2-1.43.59L10.3 9.45l-7.72 7.72c-.78.78-.78 2.05 0 2.83L4 21.41c.39.39.9.59 1.41.59.51 0 1.02-.2 1.41-.59l7.78-7.78 2.81-2.81c.8-.78.8-2.07 0-2.86zM5.41 20L4 18.59l7.72-7.72 1.47 1.35L5.41 20z\"/>\n",
              "  </svg>\n",
              "      </button>\n",
              "      \n",
              "  <style>\n",
              "    .colab-df-container {\n",
              "      display:flex;\n",
              "      flex-wrap:wrap;\n",
              "      gap: 12px;\n",
              "    }\n",
              "\n",
              "    .colab-df-convert {\n",
              "      background-color: #E8F0FE;\n",
              "      border: none;\n",
              "      border-radius: 50%;\n",
              "      cursor: pointer;\n",
              "      display: none;\n",
              "      fill: #1967D2;\n",
              "      height: 32px;\n",
              "      padding: 0 0 0 0;\n",
              "      width: 32px;\n",
              "    }\n",
              "\n",
              "    .colab-df-convert:hover {\n",
              "      background-color: #E2EBFA;\n",
              "      box-shadow: 0px 1px 2px rgba(60, 64, 67, 0.3), 0px 1px 3px 1px rgba(60, 64, 67, 0.15);\n",
              "      fill: #174EA6;\n",
              "    }\n",
              "\n",
              "    [theme=dark] .colab-df-convert {\n",
              "      background-color: #3B4455;\n",
              "      fill: #D2E3FC;\n",
              "    }\n",
              "\n",
              "    [theme=dark] .colab-df-convert:hover {\n",
              "      background-color: #434B5C;\n",
              "      box-shadow: 0px 1px 3px 1px rgba(0, 0, 0, 0.15);\n",
              "      filter: drop-shadow(0px 1px 2px rgba(0, 0, 0, 0.3));\n",
              "      fill: #FFFFFF;\n",
              "    }\n",
              "  </style>\n",
              "\n",
              "      <script>\n",
              "        const buttonEl =\n",
              "          document.querySelector('#df-4f845716-ddca-4cfd-bac0-bd600d0ae665 button.colab-df-convert');\n",
              "        buttonEl.style.display =\n",
              "          google.colab.kernel.accessAllowed ? 'block' : 'none';\n",
              "\n",
              "        async function convertToInteractive(key) {\n",
              "          const element = document.querySelector('#df-4f845716-ddca-4cfd-bac0-bd600d0ae665');\n",
              "          const dataTable =\n",
              "            await google.colab.kernel.invokeFunction('convertToInteractive',\n",
              "                                                     [key], {});\n",
              "          if (!dataTable) return;\n",
              "\n",
              "          const docLinkHtml = 'Like what you see? Visit the ' +\n",
              "            '<a target=\"_blank\" href=https://colab.research.google.com/notebooks/data_table.ipynb>data table notebook</a>'\n",
              "            + ' to learn more about interactive tables.';\n",
              "          element.innerHTML = '';\n",
              "          dataTable['output_type'] = 'display_data';\n",
              "          await google.colab.output.renderOutput(dataTable, element);\n",
              "          const docLink = document.createElement('div');\n",
              "          docLink.innerHTML = docLinkHtml;\n",
              "          element.appendChild(docLink);\n",
              "        }\n",
              "      </script>\n",
              "    </div>\n",
              "  </div>\n",
              "  "
            ]
          },
          "metadata": {},
          "execution_count": 36
        }
      ]
    },
    {
      "cell_type": "code",
      "source": [
        "iqr=qnt.loc[0.75]-qnt.loc[0.25]\n",
        "\n",
        "iqr"
      ],
      "metadata": {
        "id": "sgDu8Lw6lQiF"
      },
      "execution_count": null,
      "outputs": []
    },
    {
      "cell_type": "code",
      "source": [
        "lower=qnt.loc[0.25]-(1.5*iqr)\n",
        "lower"
      ],
      "metadata": {
        "id": "T078vOtwlUCn",
        "colab": {
          "base_uri": "https://localhost:8080/"
        },
        "outputId": "b46dd36b-892a-4d83-85e5-bf252e2dcf66"
      },
      "execution_count": 39,
      "outputs": [
        {
          "output_type": "execute_result",
          "data": {
            "text/plain": [
              "Length            0.20250\n",
              "Diameter          0.15500\n",
              "Height            0.04000\n",
              "Whole weight     -0.62575\n",
              "Shucked weight   -0.28800\n",
              "Viscera weight   -0.14575\n",
              "Shell weight     -0.16850\n",
              "Rings             3.50000\n",
              "dtype: float64"
            ]
          },
          "metadata": {},
          "execution_count": 39
        }
      ]
    },
    {
      "cell_type": "code",
      "source": [
        "upper=qnt.loc[0.75]+(1.5*iqr)\n",
        "upper"
      ],
      "metadata": {
        "id": "Uf5A7FA-lXRf",
        "colab": {
          "base_uri": "https://localhost:8080/"
        },
        "outputId": "61caf964-da61-46ad-bafa-0aad3b8266f7"
      },
      "execution_count": 40,
      "outputs": [
        {
          "output_type": "execute_result",
          "data": {
            "text/plain": [
              "Length             0.86250\n",
              "Diameter           0.67500\n",
              "Height             0.24000\n",
              "Whole weight       2.22025\n",
              "Shucked weight     0.97600\n",
              "Viscera weight     0.49225\n",
              "Shell weight       0.62750\n",
              "Rings             15.50000\n",
              "dtype: float64"
            ]
          },
          "metadata": {},
          "execution_count": 40
        }
      ]
    },
    {
      "cell_type": "code",
      "source": [
        "# replacing outliers\n",
        "\n",
        "##Diameter\n",
        "d['Diameter']=np.where(d['Diameter']<0.155,0.4078,d['Diameter'])\n",
        "sns.boxplot(d['Diameter'])"
      ],
      "metadata": {
        "id": "FBobj_Wplazy",
        "colab": {
          "base_uri": "https://localhost:8080/",
          "height": 296
        },
        "outputId": "a070b501-5604-4099-9ad3-21b7e6cca1a2"
      },
      "execution_count": 41,
      "outputs": [
        {
          "output_type": "execute_result",
          "data": {
            "text/plain": [
              "<matplotlib.axes._subplots.AxesSubplot at 0x7fcb0c521150>"
            ]
          },
          "metadata": {},
          "execution_count": 41
        },
        {
          "output_type": "display_data",
          "data": {
            "text/plain": [
              "<Figure size 432x288 with 1 Axes>"
            ],
            "image/png": "[encoded data removed]"
          },
          "metadata": {
            "needs_background": "light"
          }
        }
      ]
    },
    {
      "cell_type": "code",
      "source": [
        "## Length\n",
        "\n",
        "sns.boxplot(d['Length'])"
      ],
      "metadata": {
        "id": "xPG-OSxQlee_",
        "colab": {
          "base_uri": "https://localhost:8080/",
          "height": 296
        },
        "outputId": "8a1e485e-35b8-4458-cf81-bab6cae4487f"
      },
      "execution_count": 42,
      "outputs": [
        {
          "output_type": "execute_result",
          "data": {
            "text/plain": [
              "<matplotlib.axes._subplots.AxesSubplot at 0x7fcb0c472f90>"
            ]
          },
          "metadata": {},
          "execution_count": 42
        },
        {
          "output_type": "display_data",
          "data": {
            "text/plain": [
              "<Figure size 432x288 with 1 Axes>"
            ],
            "image/png": "[encoded data removed]"
          },
          "metadata": {
            "needs_background": "light"
          }
        }
      ]
    },
    {
      "cell_type": "code",
      "source": [
        "d['Length']=np.where(d['Length']<0.23,0.52, d['Length'])"
      ],
      "metadata": {
        "id": "cBK7zBomljQr"
      },
      "execution_count": 43,
      "outputs": []
    },
    {
      "cell_type": "code",
      "source": [
        "sns.boxplot(d['Length'])"
      ],
      "metadata": {
        "id": "19mYI9_wlmqs",
        "colab": {
          "base_uri": "https://localhost:8080/",
          "height": 296
        },
        "outputId": "ce4d3255-d915-4b9d-e139-1f1ae7391033"
      },
      "execution_count": 44,
      "outputs": [
        {
          "output_type": "execute_result",
          "data": {
            "text/plain": [
              "<matplotlib.axes._subplots.AxesSubplot at 0x7fcb0c442550>"
            ]
          },
          "metadata": {},
          "execution_count": 44
        },
        {
          "output_type": "display_data",
          "data": {
            "text/plain": [
              "<Figure size 432x288 with 1 Axes>"
            ],
            "image/png": "[encoded data removed]"
          },
          "metadata": {
            "needs_background": "light"
          }
        }
      ]
    },
    {
      "cell_type": "code",
      "source": [
        "## Height\n",
        "\n",
        "sns.boxplot(d['Height'])"
      ],
      "metadata": {
        "id": "65xgszCllovM",
        "colab": {
          "base_uri": "https://localhost:8080/",
          "height": 296
        },
        "outputId": "f3f1d378-dd71-475b-cf62-337ba8fe7a94"
      },
      "execution_count": 45,
      "outputs": [
        {
          "output_type": "execute_result",
          "data": {
            "text/plain": [
              "<matplotlib.axes._subplots.AxesSubplot at 0x7fcb0c3e15d0>"
            ]
          },
          "metadata": {},
          "execution_count": 45
        },
        {
          "output_type": "display_data",
          "data": {
            "text/plain": [
              "<Figure size 432x288 with 1 Axes>"
            ],
            "image/png": "[encoded data removed]"
          },
          "metadata": {
            "needs_background": "light"
          }
        }
      ]
    },
    {
      "cell_type": "code",
      "source": [
        "d['Height']=np.where(d['Height']<0.04,0.139, d['Height'])\n",
        "d['Height']=np.where(d['Height']>0.23,0.139, d['Height'])"
      ],
      "metadata": {
        "id": "KVQUk7EOlry-"
      },
      "execution_count": 46,
      "outputs": []
    },
    {
      "cell_type": "code",
      "source": [
        "sns.boxplot(d['Height'])"
      ],
      "metadata": {
        "id": "bn8Au72glx90",
        "colab": {
          "base_uri": "https://localhost:8080/",
          "height": 296
        },
        "outputId": "34cc0c50-263c-4b41-9a03-d90c46bef33d"
      },
      "execution_count": 47,
      "outputs": [
        {
          "output_type": "execute_result",
          "data": {
            "text/plain": [
              "<matplotlib.axes._subplots.AxesSubplot at 0x7fcb0c350e50>"
            ]
          },
          "metadata": {},
          "execution_count": 47
        },
        {
          "output_type": "display_data",
          "data": {
            "text/plain": [
              "<Figure size 432x288 with 1 Axes>"
            ],
            "image/png": "[encoded data removed]"
          },
          "metadata": {
            "needs_background": "light"
          }
        }
      ]
    },
    {
      "cell_type": "code",
      "source": [
        "## Whole weight\n",
        "\n",
        "sns.boxplot(d['Whole weight'])"
      ],
      "metadata": {
        "id": "bTJCuu1rl1HK",
        "colab": {
          "base_uri": "https://localhost:8080/",
          "height": 296
        },
        "outputId": "13127e7c-cda3-45ef-8a8f-8663c0ec2f2b"
      },
      "execution_count": 48,
      "outputs": [
        {
          "output_type": "execute_result",
          "data": {
            "text/plain": [
              "<matplotlib.axes._subplots.AxesSubplot at 0x7fcb0c2a7fd0>"
            ]
          },
          "metadata": {},
          "execution_count": 48
        },
        {
          "output_type": "display_data",
          "data": {
            "text/plain": [
              "<Figure size 432x288 with 1 Axes>"
            ],
            "image/png": "[encoded data removed]"
          },
          "metadata": {
            "needs_background": "light"
          }
        }
      ]
    },
    {
      "cell_type": "code",
      "source": [
        "d['Whole weight']=np.where(d['Whole weight']>0.9,0.82, d['Whole weight'])"
      ],
      "metadata": {
        "id": "4bPM5KzGl7sK"
      },
      "execution_count": 49,
      "outputs": []
    },
    {
      "cell_type": "code",
      "source": [
        "sns.boxplot(d['Whole weight'])"
      ],
      "metadata": {
        "id": "1jB0YnBtl_6H",
        "colab": {
          "base_uri": "https://localhost:8080/",
          "height": 296
        },
        "outputId": "ad78e3ff-8ba5-49fd-c478-7269ddb78d19"
      },
      "execution_count": 50,
      "outputs": [
        {
          "output_type": "execute_result",
          "data": {
            "text/plain": [
              "<matplotlib.axes._subplots.AxesSubplot at 0x7fcb0c283fd0>"
            ]
          },
          "metadata": {},
          "execution_count": 50
        },
        {
          "output_type": "display_data",
          "data": {
            "text/plain": [
              "<Figure size 432x288 with 1 Axes>"
            ],
            "image/png": "[encoded data removed]"
          },
          "metadata": {
            "needs_background": "light"
          }
        }
      ]
    },
    {
      "cell_type": "code",
      "source": [
        "## Shucked weight\n",
        "\n",
        "sns.boxplot(d['Shucked weight'])"
      ],
      "metadata": {
        "id": "KYXgoL9MmDUm",
        "colab": {
          "base_uri": "https://localhost:8080/",
          "height": 296
        },
        "outputId": "6005b7aa-af91-465d-aca8-6a33d782a3b7"
      },
      "execution_count": 51,
      "outputs": [
        {
          "output_type": "execute_result",
          "data": {
            "text/plain": [
              "<matplotlib.axes._subplots.AxesSubplot at 0x7fcb0c20a210>"
            ]
          },
          "metadata": {},
          "execution_count": 51
        },
        {
          "output_type": "display_data",
          "data": {
            "text/plain": [
              "<Figure size 432x288 with 1 Axes>"
            ],
            "image/png": "[encoded data removed]"
          },
          "metadata": {
            "needs_background": "light"
          }
        }
      ]
    },
    {
      "cell_type": "code",
      "source": [
        "d['Shucked weight']=np.where(d['Shucked weight']>0.93,0.35, d['Shucked weight'])"
      ],
      "metadata": {
        "id": "Sr_xXyy6mGTC"
      },
      "execution_count": 52,
      "outputs": []
    },
    {
      "cell_type": "code",
      "source": [
        "sns.boxplot(d['Shucked weight'])"
      ],
      "metadata": {
        "id": "36s7fSAomJMO",
        "colab": {
          "base_uri": "https://localhost:8080/",
          "height": 296
        },
        "outputId": "3d140bc7-e8b7-4cac-8642-dcf5d599c3a9"
      },
      "execution_count": 53,
      "outputs": [
        {
          "output_type": "execute_result",
          "data": {
            "text/plain": [
              "<matplotlib.axes._subplots.AxesSubplot at 0x7fcb0c17a390>"
            ]
          },
          "metadata": {},
          "execution_count": 53
        },
        {
          "output_type": "display_data",
          "data": {
            "text/plain": [
              "<Figure size 432x288 with 1 Axes>"
            ],
            "image/png": "[encoded data removed]"
          },
          "metadata": {
            "needs_background": "light"
          }
        }
      ]
    },
    {
      "cell_type": "code",
      "source": [
        "## Viscera weight\n",
        "\n",
        "sns.boxplot(d['Viscera weight'])"
      ],
      "metadata": {
        "id": "DyjkyEOemNdW",
        "colab": {
          "base_uri": "https://localhost:8080/",
          "height": 296
        },
        "outputId": "c390becb-99c6-4c87-f7e6-fdbebfcecd41"
      },
      "execution_count": 54,
      "outputs": [
        {
          "output_type": "execute_result",
          "data": {
            "text/plain": [
              "<matplotlib.axes._subplots.AxesSubplot at 0x7fcb0c0e7650>"
            ]
          },
          "metadata": {},
          "execution_count": 54
        },
        {
          "output_type": "display_data",
          "data": {
            "text/plain": [
              "<Figure size 432x288 with 1 Axes>"
            ],
            "image/png": "[encoded data removed]"
          },
          "metadata": {
            "needs_background": "light"
          }
        }
      ]
    },
    {
      "cell_type": "code",
      "source": [
        "d['Viscera weight']=np.where(d['Viscera weight']>0.46,0.18, d['Viscera weight'])"
      ],
      "metadata": {
        "id": "V20NzRENmRMC"
      },
      "execution_count": 55,
      "outputs": []
    },
    {
      "cell_type": "code",
      "source": [
        "sns.boxplot(d['Viscera weight'])"
      ],
      "metadata": {
        "id": "vnfdpta9mUyM",
        "colab": {
          "base_uri": "https://localhost:8080/",
          "height": 296
        },
        "outputId": "ce3c7003-e50d-44fd-a55e-fe7139b99eae"
      },
      "execution_count": 56,
      "outputs": [
        {
          "output_type": "execute_result",
          "data": {
            "text/plain": [
              "<matplotlib.axes._subplots.AxesSubplot at 0x7fcb0c0cbbd0>"
            ]
          },
          "metadata": {},
          "execution_count": 56
        },
        {
          "output_type": "display_data",
          "data": {
            "text/plain": [
              "<Figure size 432x288 with 1 Axes>"
            ],
            "image/png": "[encoded data removed]"
          },
          "metadata": {
            "needs_background": "light"
          }
        }
      ]
    },
    {
      "cell_type": "code",
      "source": [
        "## Shell weight\n",
        "\n",
        "sns.boxplot(d['Shell weight'])"
      ],
      "metadata": {
        "id": "kXUR3XO4mXF6",
        "colab": {
          "base_uri": "https://localhost:8080/",
          "height": 296
        },
        "outputId": "fc349c3d-2cd7-46d1-9b97-047e0ce554b5"
      },
      "execution_count": 57,
      "outputs": [
        {
          "output_type": "execute_result",
          "data": {
            "text/plain": [
              "<matplotlib.axes._subplots.AxesSubplot at 0x7fcb0c039790>"
            ]
          },
          "metadata": {},
          "execution_count": 57
        },
        {
          "output_type": "display_data",
          "data": {
            "text/plain": [
              "<Figure size 432x288 with 1 Axes>"
            ],
            "image/png": "[encoded data removed]"
          },
          "metadata": {
            "needs_background": "light"
          }
        }
      ]
    },
    {
      "cell_type": "code",
      "source": [
        "d['Shell weight']=np.where(d['Shell weight']>0.61,0.2388, d['Shell weight'])"
      ],
      "metadata": {
        "id": "5Mrzw51qmaBW"
      },
      "execution_count": 58,
      "outputs": []
    },
    {
      "cell_type": "code",
      "source": [
        "sns.boxplot(d['Shell weight'])"
      ],
      "metadata": {
        "id": "IF-ljjBgmdxG",
        "colab": {
          "base_uri": "https://localhost:8080/",
          "height": 279
        },
        "outputId": "6cf867f8-4a37-4720-a4ad-c53a25984dd3"
      },
      "execution_count": 59,
      "outputs": [
        {
          "output_type": "display_data",
          "data": {
            "text/plain": [
              "<Figure size 432x288 with 1 Axes>"
            ],
            "image/png": "[encoded data removed]"
          },
          "metadata": {
            "needs_background": "light"
          }
        }
      ]
    },
    {
      "cell_type": "markdown",
      "source": [
        "# **6. Check for Categorical columns and perform encoding.**"
      ],
      "metadata": {
        "id": "sEXm-c8ifgPW"
      }
    },
    {
      "cell_type": "code",
      "source": [
        "#one hot encoding\n",
        "\n",
        "d['Sex'].replace({'M':1,'F':0,'I':2},inplace=True)\n",
        "d"
      ],
      "metadata": {
        "id": "shQQx50bmgvR",
        "colab": {
          "base_uri": "https://localhost:8080/",
          "height": 424
        },
        "outputId": "1a825d55-520c-499f-d022-6be02a1ccf70"
      },
      "execution_count": 60,
      "outputs": [
        {
          "output_type": "execute_result",
          "data": {
            "text/plain": [
              "      Sex  Length  Diameter  Height  Whole weight  Shucked weight  \\\n",
              "0       1   0.455     0.365   0.095        0.5140          0.2245   \n",
              "1       1   0.350     0.265   0.090        0.2255          0.0995   \n",
              "2       0   0.530     0.420   0.135        0.6770          0.2565   \n",
              "3       1   0.440     0.365   0.125        0.5160          0.2155   \n",
              "4       2   0.330     0.255   0.080        0.2050          0.0895   \n",
              "...   ...     ...       ...     ...           ...             ...   \n",
              "4172    0   0.565     0.450   0.165        0.8870          0.3700   \n",
              "4173    1   0.590     0.440   0.135        0.8200          0.4390   \n",
              "4174    1   0.600     0.475   0.205        0.8200          0.5255   \n",
              "4175    0   0.625     0.485   0.150        0.8200          0.5310   \n",
              "4176    1   0.710     0.555   0.195        0.8200          0.3500   \n",
              "\n",
              "      Viscera weight  Shell weight  Rings  \n",
              "0             0.1010        0.1500     15  \n",
              "1             0.0485        0.0700      7  \n",
              "2             0.1415        0.2100      9  \n",
              "3             0.1140        0.1550     10  \n",
              "4             0.0395        0.0550      7  \n",
              "...              ...           ...    ...  \n",
              "4172          0.2390        0.2490     11  \n",
              "4173          0.2145        0.2605     10  \n",
              "4174          0.2875        0.3080      9  \n",
              "4175          0.2610        0.2960     10  \n",
              "4176          0.3765        0.4950     12  \n",
              "\n",
              "[4177 rows x 9 columns]"
            ],
            "text/html": [
              "\n",
              "  <div id=\"df-66e445a3-23bd-47a8-84f7-888493cc2c38\">\n",
              "    <div class=\"colab-df-container\">\n",
              "      <div>\n",
              "<style scoped>\n",
              "    .dataframe tbody tr th:only-of-type {\n",
              "        vertical-align: middle;\n",
              "    }\n",
              "\n",
              "    .dataframe tbody tr th {\n",
              "        vertical-align: top;\n",
              "    }\n",
              "\n",
              "    .dataframe thead th {\n",
              "        text-align: right;\n",
              "    }\n",
              "</style>\n",
              "<table border=\"1\" class=\"dataframe\">\n",
              "  <thead>\n",
              "    <tr style=\"text-align: right;\">\n",
              "      <th></th>\n",
              "      <th>Sex</th>\n",
              "      <th>Length</th>\n",
              "      <th>Diameter</th>\n",
              "      <th>Height</th>\n",
              "      <th>Whole weight</th>\n",
              "      <th>Shucked weight</th>\n",
              "      <th>Viscera weight</th>\n",
              "      <th>Shell weight</th>\n",
              "      <th>Rings</th>\n",
              "    </tr>\n",
              "  </thead>\n",
              "  <tbody>\n",
              "    <tr>\n",
              "      <th>0</th>\n",
              "      <td>1</td>\n",
              "      <td>0.455</td>\n",
              "      <td>0.365</td>\n",
              "      <td>0.095</td>\n",
              "      <td>0.5140</td>\n",
              "      <td>0.2245</td>\n",
              "      <td>0.1010</td>\n",
              "      <td>0.1500</td>\n",
              "      <td>15</td>\n",
              "    </tr>\n",
              "    <tr>\n",
              "      <th>1</th>\n",
              "      <td>1</td>\n",
              "      <td>0.350</td>\n",
              "      <td>0.265</td>\n",
              "      <td>0.090</td>\n",
              "      <td>0.2255</td>\n",
              "      <td>0.0995</td>\n",
              "      <td>0.0485</td>\n",
              "      <td>0.0700</td>\n",
              "      <td>7</td>\n",
              "    </tr>\n",
              "    <tr>\n",
              "      <th>2</th>\n",
              "      <td>0</td>\n",
              "      <td>0.530</td>\n",
              "      <td>0.420</td>\n",
              "      <td>0.135</td>\n",
              "      <td>0.6770</td>\n",
              "      <td>0.2565</td>\n",
              "      <td>0.1415</td>\n",
              "      <td>0.2100</td>\n",
              "      <td>9</td>\n",
              "    </tr>\n",
              "    <tr>\n",
              "      <th>3</th>\n",
              "      <td>1</td>\n",
              "      <td>0.440</td>\n",
              "      <td>0.365</td>\n",
              "      <td>0.125</td>\n",
              "      <td>0.5160</td>\n",
              "      <td>0.2155</td>\n",
              "      <td>0.1140</td>\n",
              "      <td>0.1550</td>\n",
              "      <td>10</td>\n",
              "    </tr>\n",
              "    <tr>\n",
              "      <th>4</th>\n",
              "      <td>2</td>\n",
              "      <td>0.330</td>\n",
              "      <td>0.255</td>\n",
              "      <td>0.080</td>\n",
              "      <td>0.2050</td>\n",
              "      <td>0.0895</td>\n",
              "      <td>0.0395</td>\n",
              "      <td>0.0550</td>\n",
              "      <td>7</td>\n",
              "    </tr>\n",
              "    <tr>\n",
              "      <th>...</th>\n",
              "      <td>...</td>\n",
              "      <td>...</td>\n",
              "      <td>...</td>\n",
              "      <td>...</td>\n",
              "      <td>...</td>\n",
              "      <td>...</td>\n",
              "      <td>...</td>\n",
              "      <td>...</td>\n",
              "      <td>...</td>\n",
              "    </tr>\n",
              "    <tr>\n",
              "      <th>4172</th>\n",
              "      <td>0</td>\n",
              "      <td>0.565</td>\n",
              "      <td>0.450</td>\n",
              "      <td>0.165</td>\n",
              "      <td>0.8870</td>\n",
              "      <td>0.3700</td>\n",
              "      <td>0.2390</td>\n",
              "      <td>0.2490</td>\n",
              "      <td>11</td>\n",
              "    </tr>\n",
              "    <tr>\n",
              "      <th>4173</th>\n",
              "      <td>1</td>\n",
              "      <td>0.590</td>\n",
              "      <td>0.440</td>\n",
              "      <td>0.135</td>\n",
              "      <td>0.8200</td>\n",
              "      <td>0.4390</td>\n",
              "      <td>0.2145</td>\n",
              "      <td>0.2605</td>\n",
              "      <td>10</td>\n",
              "    </tr>\n",
              "    <tr>\n",
              "      <th>4174</th>\n",
              "      <td>1</td>\n",
              "      <td>0.600</td>\n",
              "      <td>0.475</td>\n",
              "      <td>0.205</td>\n",
              "      <td>0.8200</td>\n",
              "      <td>0.5255</td>\n",
              "      <td>0.2875</td>\n",
              "      <td>0.3080</td>\n",
              "      <td>9</td>\n",
              "    </tr>\n",
              "    <tr>\n",
              "      <th>4175</th>\n",
              "      <td>0</td>\n",
              "      <td>0.625</td>\n",
              "      <td>0.485</td>\n",
              "      <td>0.150</td>\n",
              "      <td>0.8200</td>\n",
              "      <td>0.5310</td>\n",
              "      <td>0.2610</td>\n",
              "      <td>0.2960</td>\n",
              "      <td>10</td>\n",
              "    </tr>\n",
              "    <tr>\n",
              "      <th>4176</th>\n",
              "      <td>1</td>\n",
              "      <td>0.710</td>\n",
              "      <td>0.555</td>\n",
              "      <td>0.195</td>\n",
              "      <td>0.8200</td>\n",
              "      <td>0.3500</td>\n",
              "      <td>0.3765</td>\n",
              "      <td>0.4950</td>\n",
              "      <td>12</td>\n",
              "    </tr>\n",
              "  </tbody>\n",
              "</table>\n",
              "<p>4177 rows × 9 columns</p>\n",
              "</div>\n",
              "      <button class=\"colab-df-convert\" onclick=\"convertToInteractive('df-66e445a3-23bd-47a8-84f7-888493cc2c38')\"\n",
              "              title=\"Convert this dataframe to an interactive table.\"\n",
              "              style=\"display:none;\">\n",
              "        \n",
              "  <svg xmlns=\"http://www.w3.org/2000/svg\" height=\"24px\"viewBox=\"0 0 24 24\"\n",
              "       width=\"24px\">\n",
              "    <path d=\"M0 0h24v24H0V0z\" fill=\"none\"/>\n",
              "    <path d=\"M18.56 5.44l.94 2.06.94-2.06 2.06-.94-2.06-.94-.94-2.06-.94 2.06-2.06.94zm-11 1L8.5 8.5l.94-2.06 2.06-.94-2.06-.94L8.5 2.5l-.94 2.06-2.06.94zm10 10l.94 2.06.94-2.06 2.06-.94-2.06-.94-.94-2.06-.94 2.06-2.06.94z\"/><path d=\"M17.41 7.96l-1.37-1.37c-.4-.4-.92-.59-1.43-.59-.52 0-1.04.2-1.43.59L10.3 9.45l-7.72 7.72c-.78.78-.78 2.05 0 2.83L4 21.41c.39.39.9.59 1.41.59.51 0 1.02-.2 1.41-.59l7.78-7.78 2.81-2.81c.8-.78.8-2.07 0-2.86zM5.41 20L4 18.59l7.72-7.72 1.47 1.35L5.41 20z\"/>\n",
              "  </svg>\n",
              "      </button>\n",
              "      \n",
              "  <style>\n",
              "    .colab-df-container {\n",
              "      display:flex;\n",
              "      flex-wrap:wrap;\n",
              "      gap: 12px;\n",
              "    }\n",
              "\n",
              "    .colab-df-convert {\n",
              "      background-color: #E8F0FE;\n",
              "      border: none;\n",
              "      border-radius: 50%;\n",
              "      cursor: pointer;\n",
              "      display: none;\n",
              "      fill: #1967D2;\n",
              "      height: 32px;\n",
              "      padding: 0 0 0 0;\n",
              "      width: 32px;\n",
              "    }\n",
              "\n",
              "    .colab-df-convert:hover {\n",
              "      background-color: #E2EBFA;\n",
              "      box-shadow: 0px 1px 2px rgba(60, 64, 67, 0.3), 0px 1px 3px 1px rgba(60, 64, 67, 0.15);\n",
              "      fill: #174EA6;\n",
              "    }\n",
              "\n",
              "    [theme=dark] .colab-df-convert {\n",
              "      background-color: #3B4455;\n",
              "      fill: #D2E3FC;\n",
              "    }\n",
              "\n",
              "    [theme=dark] .colab-df-convert:hover {\n",
              "      background-color: #434B5C;\n",
              "      box-shadow: 0px 1px 3px 1px rgba(0, 0, 0, 0.15);\n",
              "      filter: drop-shadow(0px 1px 2px rgba(0, 0, 0, 0.3));\n",
              "      fill: #FFFFFF;\n",
              "    }\n",
              "  </style>\n",
              "\n",
              "      <script>\n",
              "        const buttonEl =\n",
              "          document.querySelector('#df-66e445a3-23bd-47a8-84f7-888493cc2c38 button.colab-df-convert');\n",
              "        buttonEl.style.display =\n",
              "          google.colab.kernel.accessAllowed ? 'block' : 'none';\n",
              "\n",
              "        async function convertToInteractive(key) {\n",
              "          const element = document.querySelector('#df-66e445a3-23bd-47a8-84f7-888493cc2c38');\n",
              "          const dataTable =\n",
              "            await google.colab.kernel.invokeFunction('convertToInteractive',\n",
              "                                                     [key], {});\n",
              "          if (!dataTable) return;\n",
              "\n",
              "          const docLinkHtml = 'Like what you see? Visit the ' +\n",
              "            '<a target=\"_blank\" href=https://colab.research.google.com/notebooks/data_table.ipynb>data table notebook</a>'\n",
              "            + ' to learn more about interactive tables.';\n",
              "          element.innerHTML = '';\n",
              "          dataTable['output_type'] = 'display_data';\n",
              "          await google.colab.output.renderOutput(dataTable, element);\n",
              "          const docLink = document.createElement('div');\n",
              "          docLink.innerHTML = docLinkHtml;\n",
              "          element.appendChild(docLink);\n",
              "        }\n",
              "      </script>\n",
              "    </div>\n",
              "  </div>\n",
              "  "
            ]
          },
          "metadata": {},
          "execution_count": 60
        }
      ]
    },
    {
      "cell_type": "markdown",
      "source": [
        "\n",
        "# **7. Split the data into dependent and independent variables.**"
      ],
      "metadata": {
        "id": "N6swO0SVf0JW"
      }
    },
    {
      "cell_type": "code",
      "source": [
        "x=d.drop(columns= ['Rings'])\n",
        "y=d['Rings']\n",
        "x"
      ],
      "metadata": {
        "id": "E_hv2_mWmkpD",
        "colab": {
          "base_uri": "https://localhost:8080/",
          "height": 424
        },
        "outputId": "88e25657-dcf3-4269-aac9-45047b9420cb"
      },
      "execution_count": 61,
      "outputs": [
        {
          "output_type": "execute_result",
          "data": {
            "text/plain": [
              "      Sex  Length  Diameter  Height  Whole weight  Shucked weight  \\\n",
              "0       1   0.455     0.365   0.095        0.5140          0.2245   \n",
              "1       1   0.350     0.265   0.090        0.2255          0.0995   \n",
              "2       0   0.530     0.420   0.135        0.6770          0.2565   \n",
              "3       1   0.440     0.365   0.125        0.5160          0.2155   \n",
              "4       2   0.330     0.255   0.080        0.2050          0.0895   \n",
              "...   ...     ...       ...     ...           ...             ...   \n",
              "4172    0   0.565     0.450   0.165        0.8870          0.3700   \n",
              "4173    1   0.590     0.440   0.135        0.8200          0.4390   \n",
              "4174    1   0.600     0.475   0.205        0.8200          0.5255   \n",
              "4175    0   0.625     0.485   0.150        0.8200          0.5310   \n",
              "4176    1   0.710     0.555   0.195        0.8200          0.3500   \n",
              "\n",
              "      Viscera weight  Shell weight  \n",
              "0             0.1010        0.1500  \n",
              "1             0.0485        0.0700  \n",
              "2             0.1415        0.2100  \n",
              "3             0.1140        0.1550  \n",
              "4             0.0395        0.0550  \n",
              "...              ...           ...  \n",
              "4172          0.2390        0.2490  \n",
              "4173          0.2145        0.2605  \n",
              "4174          0.2875        0.3080  \n",
              "4175          0.2610        0.2960  \n",
              "4176          0.3765        0.4950  \n",
              "\n",
              "[4177 rows x 8 columns]"
            ],
            "text/html": [
              "\n",
              "  <div id=\"df-24e9c867-f1f0-4016-86d5-792ed4eea8de\">\n",
              "    <div class=\"colab-df-container\">\n",
              "      <div>\n",
              "<style scoped>\n",
              "    .dataframe tbody tr th:only-of-type {\n",
              "        vertical-align: middle;\n",
              "    }\n",
              "\n",
              "    .dataframe tbody tr th {\n",
              "        vertical-align: top;\n",
              "    }\n",
              "\n",
              "    .dataframe thead th {\n",
              "        text-align: right;\n",
              "    }\n",
              "</style>\n",
              "<table border=\"1\" class=\"dataframe\">\n",
              "  <thead>\n",
              "    <tr style=\"text-align: right;\">\n",
              "      <th></th>\n",
              "      <th>Sex</th>\n",
              "      <th>Length</th>\n",
              "      <th>Diameter</th>\n",
              "      <th>Height</th>\n",
              "      <th>Whole weight</th>\n",
              "      <th>Shucked weight</th>\n",
              "      <th>Viscera weight</th>\n",
              "      <th>Shell weight</th>\n",
              "    </tr>\n",
              "  </thead>\n",
              "  <tbody>\n",
              "    <tr>\n",
              "      <th>0</th>\n",
              "      <td>1</td>\n",
              "      <td>0.455</td>\n",
              "      <td>0.365</td>\n",
              "      <td>0.095</td>\n",
              "      <td>0.5140</td>\n",
              "      <td>0.2245</td>\n",
              "      <td>0.1010</td>\n",
              "      <td>0.1500</td>\n",
              "    </tr>\n",
              "    <tr>\n",
              "      <th>1</th>\n",
              "      <td>1</td>\n",
              "      <td>0.350</td>\n",
              "      <td>0.265</td>\n",
              "      <td>0.090</td>\n",
              "      <td>0.2255</td>\n",
              "      <td>0.0995</td>\n",
              "      <td>0.0485</td>\n",
              "      <td>0.0700</td>\n",
              "    </tr>\n",
              "    <tr>\n",
              "      <th>2</th>\n",
              "      <td>0</td>\n",
              "      <td>0.530</td>\n",
              "      <td>0.420</td>\n",
              "      <td>0.135</td>\n",
              "      <td>0.6770</td>\n",
              "      <td>0.2565</td>\n",
              "      <td>0.1415</td>\n",
              "      <td>0.2100</td>\n",
              "    </tr>\n",
              "    <tr>\n",
              "      <th>3</th>\n",
              "      <td>1</td>\n",
              "      <td>0.440</td>\n",
              "      <td>0.365</td>\n",
              "      <td>0.125</td>\n",
              "      <td>0.5160</td>\n",
              "      <td>0.2155</td>\n",
              "      <td>0.1140</td>\n",
              "      <td>0.1550</td>\n",
              "    </tr>\n",
              "    <tr>\n",
              "      <th>4</th>\n",
              "      <td>2</td>\n",
              "      <td>0.330</td>\n",
              "      <td>0.255</td>\n",
              "      <td>0.080</td>\n",
              "      <td>0.2050</td>\n",
              "      <td>0.0895</td>\n",
              "      <td>0.0395</td>\n",
              "      <td>0.0550</td>\n",
              "    </tr>\n",
              "    <tr>\n",
              "      <th>...</th>\n",
              "      <td>...</td>\n",
              "      <td>...</td>\n",
              "      <td>...</td>\n",
              "      <td>...</td>\n",
              "      <td>...</td>\n",
              "      <td>...</td>\n",
              "      <td>...</td>\n",
              "      <td>...</td>\n",
              "    </tr>\n",
              "    <tr>\n",
              "      <th>4172</th>\n",
              "      <td>0</td>\n",
              "      <td>0.565</td>\n",
              "      <td>0.450</td>\n",
              "      <td>0.165</td>\n",
              "      <td>0.8870</td>\n",
              "      <td>0.3700</td>\n",
              "      <td>0.2390</td>\n",
              "      <td>0.2490</td>\n",
              "    </tr>\n",
              "    <tr>\n",
              "      <th>4173</th>\n",
              "      <td>1</td>\n",
              "      <td>0.590</td>\n",
              "      <td>0.440</td>\n",
              "      <td>0.135</td>\n",
              "      <td>0.8200</td>\n",
              "      <td>0.4390</td>\n",
              "      <td>0.2145</td>\n",
              "      <td>0.2605</td>\n",
              "    </tr>\n",
              "    <tr>\n",
              "      <th>4174</th>\n",
              "      <td>1</td>\n",
              "      <td>0.600</td>\n",
              "      <td>0.475</td>\n",
              "      <td>0.205</td>\n",
              "      <td>0.8200</td>\n",
              "      <td>0.5255</td>\n",
              "      <td>0.2875</td>\n",
              "      <td>0.3080</td>\n",
              "    </tr>\n",
              "    <tr>\n",
              "      <th>4175</th>\n",
              "      <td>0</td>\n",
              "      <td>0.625</td>\n",
              "      <td>0.485</td>\n",
              "      <td>0.150</td>\n",
              "      <td>0.8200</td>\n",
              "      <td>0.5310</td>\n",
              "      <td>0.2610</td>\n",
              "      <td>0.2960</td>\n",
              "    </tr>\n",
              "    <tr>\n",
              "      <th>4176</th>\n",
              "      <td>1</td>\n",
              "      <td>0.710</td>\n",
              "      <td>0.555</td>\n",
              "      <td>0.195</td>\n",
              "      <td>0.8200</td>\n",
              "      <td>0.3500</td>\n",
              "      <td>0.3765</td>\n",
              "      <td>0.4950</td>\n",
              "    </tr>\n",
              "  </tbody>\n",
              "</table>\n",
              "<p>4177 rows × 8 columns</p>\n",
              "</div>\n",
              "      <button class=\"colab-df-convert\" onclick=\"convertToInteractive('df-24e9c867-f1f0-4016-86d5-792ed4eea8de')\"\n",
              "              title=\"Convert this dataframe to an interactive table.\"\n",
              "              style=\"display:none;\">\n",
              "        \n",
              "  <svg xmlns=\"http://www.w3.org/2000/svg\" height=\"24px\"viewBox=\"0 0 24 24\"\n",
              "       width=\"24px\">\n",
              "    <path d=\"M0 0h24v24H0V0z\" fill=\"none\"/>\n",
              "    <path d=\"M18.56 5.44l.94 2.06.94-2.06 2.06-.94-2.06-.94-.94-2.06-.94 2.06-2.06.94zm-11 1L8.5 8.5l.94-2.06 2.06-.94-2.06-.94L8.5 2.5l-.94 2.06-2.06.94zm10 10l.94 2.06.94-2.06 2.06-.94-2.06-.94-.94-2.06-.94 2.06-2.06.94z\"/><path d=\"M17.41 7.96l-1.37-1.37c-.4-.4-.92-.59-1.43-.59-.52 0-1.04.2-1.43.59L10.3 9.45l-7.72 7.72c-.78.78-.78 2.05 0 2.83L4 21.41c.39.39.9.59 1.41.59.51 0 1.02-.2 1.41-.59l7.78-7.78 2.81-2.81c.8-.78.8-2.07 0-2.86zM5.41 20L4 18.59l7.72-7.72 1.47 1.35L5.41 20z\"/>\n",
              "  </svg>\n",
              "      </button>\n",
              "      \n",
              "  <style>\n",
              "    .colab-df-container {\n",
              "      display:flex;\n",
              "      flex-wrap:wrap;\n",
              "      gap: 12px;\n",
              "    }\n",
              "\n",
              "    .colab-df-convert {\n",
              "      background-color: #E8F0FE;\n",
              "      border: none;\n",
              "      border-radius: 50%;\n",
              "      cursor: pointer;\n",
              "      display: none;\n",
              "      fill: #1967D2;\n",
              "      height: 32px;\n",
              "      padding: 0 0 0 0;\n",
              "      width: 32px;\n",
              "    }\n",
              "\n",
              "    .colab-df-convert:hover {\n",
              "      background-color: #E2EBFA;\n",
              "      box-shadow: 0px 1px 2px rgba(60, 64, 67, 0.3), 0px 1px 3px 1px rgba(60, 64, 67, 0.15);\n",
              "      fill: #174EA6;\n",
              "    }\n",
              "\n",
              "    [theme=dark] .colab-df-convert {\n",
              "      background-color: #3B4455;\n",
              "      fill: #D2E3FC;\n",
              "    }\n",
              "\n",
              "    [theme=dark] .colab-df-convert:hover {\n",
              "      background-color: #434B5C;\n",
              "      box-shadow: 0px 1px 3px 1px rgba(0, 0, 0, 0.15);\n",
              "      filter: drop-shadow(0px 1px 2px rgba(0, 0, 0, 0.3));\n",
              "      fill: #FFFFFF;\n",
              "    }\n",
              "  </style>\n",
              "\n",
              "      <script>\n",
              "        const buttonEl =\n",
              "          document.querySelector('#df-24e9c867-f1f0-4016-86d5-792ed4eea8de button.colab-df-convert');\n",
              "        buttonEl.style.display =\n",
              "          google.colab.kernel.accessAllowed ? 'block' : 'none';\n",
              "\n",
              "        async function convertToInteractive(key) {\n",
              "          const element = document.querySelector('#df-24e9c867-f1f0-4016-86d5-792ed4eea8de');\n",
              "          const dataTable =\n",
              "            await google.colab.kernel.invokeFunction('convertToInteractive',\n",
              "                                                     [key], {});\n",
              "          if (!dataTable) return;\n",
              "\n",
              "          const docLinkHtml = 'Like what you see? Visit the ' +\n",
              "            '<a target=\"_blank\" href=https://colab.research.google.com/notebooks/data_table.ipynb>data table notebook</a>'\n",
              "            + ' to learn more about interactive tables.';\n",
              "          element.innerHTML = '';\n",
              "          dataTable['output_type'] = 'display_data';\n",
              "          await google.colab.output.renderOutput(dataTable, element);\n",
              "          const docLink = document.createElement('div');\n",
              "          docLink.innerHTML = docLinkHtml;\n",
              "          element.appendChild(docLink);\n",
              "        }\n",
              "      </script>\n",
              "    </div>\n",
              "  </div>\n",
              "  "
            ]
          },
          "metadata": {},
          "execution_count": 61
        }
      ]
    },
    {
      "cell_type": "code",
      "source": [
        "y"
      ],
      "metadata": {
        "id": "sFA7veU9mpgN",
        "colab": {
          "base_uri": "https://localhost:8080/"
        },
        "outputId": "0eb7bf9d-15dd-476b-a744-b08b4692dd64"
      },
      "execution_count": 62,
      "outputs": [
        {
          "output_type": "execute_result",
          "data": {
            "text/plain": [
              "0       15\n",
              "1        7\n",
              "2        9\n",
              "3       10\n",
              "4        7\n",
              "        ..\n",
              "4172    11\n",
              "4173    10\n",
              "4174     9\n",
              "4175    10\n",
              "4176    12\n",
              "Name: Rings, Length: 4177, dtype: int64"
            ]
          },
          "metadata": {},
          "execution_count": 62
        }
      ]
    },
    {
      "cell_type": "markdown",
      "source": [
        "# **8. Scale the independent variables.**"
      ],
      "metadata": {
        "id": "raEdMZ3qf_EA"
      }
    },
    {
      "cell_type": "code",
      "source": [
        "from sklearn.preprocessing import scale  #StandardScaler"
      ],
      "metadata": {
        "id": "j9SBNOg1msbw"
      },
      "execution_count": 63,
      "outputs": []
    },
    {
      "cell_type": "code",
      "source": [
        "#Scaling the independent variables\n",
        "\n",
        "x = scale(x)\n",
        "x"
      ],
      "metadata": {
        "id": "pA-55eG3mw2Z",
        "colab": {
          "base_uri": "https://localhost:8080/"
        },
        "outputId": "eada7c4f-fb9b-4681-a05b-d2bcbac7581c"
      },
      "execution_count": 64,
      "outputs": [
        {
          "output_type": "execute_result",
          "data": {
            "text/plain": [
              "array([[-0.0105225 , -0.67088921, -0.50179694, ..., -0.61037964,\n",
              "        -0.7328165 , -0.64358742],\n",
              "       [-0.0105225 , -1.61376082, -1.57304487, ..., -1.22513334,\n",
              "        -1.24343929, -1.25742181],\n",
              "       [-1.26630752,  0.00259051,  0.08738942, ..., -0.45300269,\n",
              "        -0.33890749, -0.18321163],\n",
              "       ...,\n",
              "       [-0.0105225 ,  0.63117159,  0.67657577, ...,  0.86994729,\n",
              "         1.08111018,  0.56873549],\n",
              "       [-1.26630752,  0.85566483,  0.78370057, ...,  0.89699645,\n",
              "         0.82336724,  0.47666033],\n",
              "       [-0.0105225 ,  1.61894185,  1.53357412, ...,  0.00683308,\n",
              "         1.94673739,  2.00357336]])"
            ]
          },
          "metadata": {},
          "execution_count": 64
        }
      ]
    },
    {
      "cell_type": "markdown",
      "source": [
        "# **9. Split the data into training and testing.**"
      ],
      "metadata": {
        "id": "WezDjPwBiSZF"
      }
    },
    {
      "cell_type": "code",
      "source": [
        "from sklearn.model_selection import train_test_split"
      ],
      "metadata": {
        "id": "bh6uu2RLm1UR"
      },
      "execution_count": 65,
      "outputs": []
    },
    {
      "cell_type": "code",
      "source": [
        "#spliting data to train and test\n",
        "\n",
        "x_train, x_test, y_train, y_test = train_test_split(x,y, test_size = 0.2)\n",
        "print(x_train.shape, x_test.shape)"
      ],
      "metadata": {
        "id": "yrLPzwQcm2LR",
        "colab": {
          "base_uri": "https://localhost:8080/"
        },
        "outputId": "f39e8863-2858-4e2e-922f-3a9e6569412d"
      },
      "execution_count": 66,
      "outputs": [
        {
          "output_type": "stream",
          "name": "stdout",
          "text": [
            "(3341, 8) (836, 8)\n"
          ]
        }
      ]
    },
    {
      "cell_type": "markdown",
      "source": [
        "# **10. Build the Model.**"
      ],
      "metadata": {
        "id": "peUKzy3Higda"
      }
    },
    {
      "cell_type": "code",
      "source": [
        "#Multiple Regression \n",
        "\n",
        "from sklearn.linear_model import LinearRegression\n",
        "\n",
        "MLR=LinearRegression()"
      ],
      "metadata": {
        "id": "vbepsU5Im6ZK"
      },
      "execution_count": 67,
      "outputs": []
    },
    {
      "cell_type": "markdown",
      "source": [
        "# **11. Train the model.**"
      ],
      "metadata": {
        "id": "BVvJKt2-iqIv"
      }
    },
    {
      "cell_type": "code",
      "source": [
        "MLR.fit(x_train,y_train)"
      ],
      "metadata": {
        "id": "vCS20T5tnIqo",
        "colab": {
          "base_uri": "https://localhost:8080/"
        },
        "outputId": "33907145-51d7-4709-9f59-8cac8a096916"
      },
      "execution_count": 68,
      "outputs": [
        {
          "output_type": "execute_result",
          "data": {
            "text/plain": [
              "LinearRegression()"
            ]
          },
          "metadata": {},
          "execution_count": 68
        }
      ]
    },
    {
      "cell_type": "markdown",
      "source": [
        "# **12. Test the model.**"
      ],
      "metadata": {
        "id": "_6z2Bbjri9Nm"
      }
    },
    {
      "cell_type": "code",
      "source": [
        "#predcition on the test data\n",
        "y_pred=MLR.predict(x_test)\n",
        "y_pred"
      ],
      "metadata": {
        "id": "YRh6trZMnLbp",
        "colab": {
          "base_uri": "https://localhost:8080/"
        },
        "outputId": "8bf5bc93-9e86-4bc9-9be5-890539758588"
      },
      "execution_count": 69,
      "outputs": [
        {
          "output_type": "execute_result",
          "data": {
            "text/plain": [
              "array([11.76033677, 13.95483225, 11.09311763,  7.67629232, 11.37803572,\n",
              "       12.31329407, 10.55030206, 10.83838957,  6.8314642 ,  6.35770309,\n",
              "       10.74384669,  6.11417347, 12.43940453,  7.54260597, 10.43002816,\n",
              "       11.49966694,  6.96089727,  9.43197078, 12.72862863,  9.40058642,\n",
              "       11.28262482, 11.08557957, 11.0296763 ,  7.45844791, 13.32119557,\n",
              "       10.88458746, 10.69451832,  8.38739654,  9.36376723,  6.77714343,\n",
              "       10.21457914,  9.55255515,  4.21764599, 11.29154689,  7.61104695,\n",
              "       12.02409263, 15.77546314,  8.2241309 , 10.41018263,  6.25421913,\n",
              "       10.90049964,  9.74094579, 11.13880362,  8.85929367,  5.96569811,\n",
              "       11.26068089,  8.15824076,  9.06630518,  9.78793842, 11.64930757,\n",
              "       10.04593446, 12.70431084, 12.51472472, 10.71101112, 10.88007306,\n",
              "        9.50433883,  7.11831405,  8.39209151,  6.88191151,  9.78840447,\n",
              "        7.30533692, 12.53812417,  9.74259236,  7.87265036,  7.13635445,\n",
              "       11.59757869, 14.67751739,  9.28256693,  3.86226344, 10.12536036,\n",
              "        7.9034252 , 11.5708098 , 10.75041557,  9.483513  ,  7.24427684,\n",
              "        7.8213322 ,  6.42536333, 12.2505761 ,  8.5882128 ,  7.88569003,\n",
              "        9.87213265,  9.87049238,  7.70493876, 10.21437873, 11.77716834,\n",
              "        9.94364982, 10.92817008,  7.91495478,  6.10798631,  6.56583634,\n",
              "        6.82538513, 12.08324036, 10.99414875, 12.87019746,  9.55906689,\n",
              "       11.0132441 , 10.09241404, 11.97219808,  9.60823945, 11.02323032,\n",
              "        9.22721291, 11.4305515 ,  7.43923279,  6.20833006, 13.03941393,\n",
              "        9.44279948,  9.28309661, 12.44437263,  6.73093468, 11.03631485,\n",
              "        9.76163873,  9.27373415, 12.40509449, 13.23718261, 15.47859845,\n",
              "       11.42591329,  9.55216926, 11.38915986, 11.47386914, 15.95833975,\n",
              "        7.65240242, 11.2087427 ,  7.8057278 , 11.14528095,  9.69860725,\n",
              "       10.58530479,  5.89776832, 11.01236934,  9.57071664,  8.76198375,\n",
              "        9.24475977,  7.45562853,  7.04696946,  7.61114957,  7.10192075,\n",
              "       11.63018056, 14.8498306 , 12.08833914, 12.23739466, 10.93402351,\n",
              "       10.42719962,  7.58486556, 10.37746385,  8.73524989,  9.60087108,\n",
              "       11.36747367, 12.1345145 ,  8.14699093,  9.3762566 ,  8.11405041,\n",
              "        9.96235974,  7.15403405, 10.33809872,  8.05957226,  9.0263859 ,\n",
              "       10.60379432,  8.69615667,  9.43074282, 10.66592521,  6.90406346,\n",
              "       12.38560195, 10.37208375,  9.68911077,  8.89185247,  9.21447032,\n",
              "        8.31798884,  9.70039182, 10.41783018, 11.90189138,  9.43819445,\n",
              "        9.56422313,  9.31415326, 11.24934625, 11.3005629 , 10.11024263,\n",
              "        8.42102912, 12.3995596 , 12.12767046,  8.87811505, 12.31833587,\n",
              "       11.92078791, 10.40753804,  9.81261763, 11.12244947, 11.54634693,\n",
              "       10.22075325,  8.44402252,  9.14105345,  8.7299585 ,  6.60298911,\n",
              "        9.94250142, 11.91212071,  8.21452345, 12.61918806,  7.40750515,\n",
              "       10.73337281, 10.63693622, 12.48433436, 12.51617046, 10.48670298,\n",
              "        6.52971909, 10.84036277, 11.48903158,  7.04570799,  9.89151434,\n",
              "        9.78437679, 12.63998723, 13.72670217,  9.02663606, 10.52515789,\n",
              "       10.60772585, 11.36123834, 11.4597961 ,  9.19532022, 11.12107641,\n",
              "       10.32920923,  8.59389526,  9.39506284,  9.30193216, 11.65654207,\n",
              "       13.85405376, 11.40648715, 10.93799744,  6.7853747 , 11.15384429,\n",
              "        6.59965608, 10.20363284,  8.75206342, 10.00533217, 12.54523993,\n",
              "        8.3107759 , 11.62573794,  7.96811882,  8.26735199,  5.92325528,\n",
              "        7.91168453, 12.03414935,  7.56011007,  9.28662579, 11.48062586,\n",
              "        9.44935516,  5.98416823, 11.32614001, 12.45778739,  8.3728192 ,\n",
              "       10.32908401,  9.4567863 , 11.71299221,  6.79235717,  7.00559881,\n",
              "       10.9325213 , 12.00965641, 11.98205567, 12.34188975, 10.48396266,\n",
              "       10.13937232,  7.01770101, 13.00112561, 10.92079365,  7.74473272,\n",
              "        6.5634652 , 11.64248696, 10.07524017, 11.33951394,  9.12656956,\n",
              "       12.02759575, 11.49779477, 13.63813203, 13.314662  ,  6.83573363,\n",
              "       10.9658561 , 10.50207979,  9.85731057,  9.60004318, 12.34372681,\n",
              "       12.25142633, 10.83513265,  8.03563664,  3.45138997, 11.74124792,\n",
              "       12.0118357 ,  6.45735526, 12.61592384, 11.42590087, 12.55656116,\n",
              "       12.59373152,  9.63342285,  9.39606191, 10.87162379, 11.18195931,\n",
              "        8.96765069,  7.55579713, 11.28824098, 10.84409657, 11.6978758 ,\n",
              "       11.2752446 ,  4.56669779,  7.22220943, 11.85638588, 15.40918824,\n",
              "        6.43524745, 10.34554232,  5.71780346, 11.59050543, 10.47984812,\n",
              "        8.06091214, 10.96381057,  4.11380519,  9.48374084,  6.51283671,\n",
              "        7.94690112, 11.1328157 ,  6.71407332, 11.05100621, 10.62057753,\n",
              "        7.62509692,  6.18508861, 15.68562075,  9.93159922,  6.70971949,\n",
              "        9.47153614,  7.40139402,  6.64209622, 10.66317664,  9.82259088,\n",
              "       12.79764218, 13.13535254,  8.70486278, 11.32479308,  7.03530033,\n",
              "       12.69036134, 11.70479644,  5.76095041, 10.59822896, 11.66193847,\n",
              "        8.56016875, 10.91084296,  9.66907383,  9.35981784, 11.51222101,\n",
              "        7.41124881, 10.59304615, 13.08844894, 11.02342594, 10.29163057,\n",
              "        8.86847985, 11.96425703, 10.43441198, 10.35392948,  8.55990843,\n",
              "       11.2404661 , 10.18090083,  9.68450313,  7.10384008, 10.91932511,\n",
              "        7.85627473,  8.93186096, 12.60172524,  9.78030648, 10.51924007,\n",
              "        8.73774108,  6.9989946 , 11.331612  , 11.56783848,  4.61613719,\n",
              "        9.32023548,  8.10149532,  8.9670189 , 14.81309323,  9.10760682,\n",
              "        7.10589402, 11.89101703,  9.46723335,  8.32550608,  8.6135034 ,\n",
              "       13.93494535,  7.79550519,  9.13685555,  5.96988262, 10.25077016,\n",
              "       10.82896368, 10.42290955, 11.93065846,  7.89788958,  3.41322315,\n",
              "        8.82802869,  8.79360929,  6.53709129, 12.28313004,  7.63968626,\n",
              "       10.45443507, 10.98667701, 12.42204552, 10.78557194,  9.96534673,\n",
              "       10.83598324, 10.88809293,  7.96915704,  7.79185756,  7.50502692,\n",
              "        8.09558236,  9.05426646, 12.07518824, 10.5204302 ,  6.92809968,\n",
              "        9.2646961 , 10.14464034, 13.09644216,  6.59654687,  9.46268869,\n",
              "       10.43978841, 10.50610946, 11.99970151, 10.26027175,  9.8922492 ,\n",
              "        8.80481338, 11.72822552, 10.03611628, 12.69482501,  9.80150157,\n",
              "       11.99299721,  9.33883826, 12.95264248,  9.79184757,  7.22144366,\n",
              "       10.3723777 , 10.61108438, 12.58568976, 11.15907747, 14.41640892,\n",
              "        9.53218895,  6.79975277, 11.30439192, 11.73314365, 11.6505559 ,\n",
              "        7.26634748,  7.34779302, 12.23290754, 10.1501579 , 13.62218955,\n",
              "        7.83372961,  8.90985652,  6.75249196,  9.08768486, 10.5124627 ,\n",
              "       15.22131282,  8.66614436, 10.05834427,  6.41868373,  6.81261058,\n",
              "       11.37669484,  7.91834931, 10.93472405,  7.92183972, 11.13890406,\n",
              "        8.9135982 , 11.95942364,  9.50666912, 11.34786929,  9.00975323,\n",
              "       12.46992881, 11.18891831, 10.87746241, 11.64725703,  7.17618497,\n",
              "       13.75238371,  6.27500977, 10.36457799,  9.20747476,  6.17773967,\n",
              "       11.28518487, 10.78226513, 11.37582759, 11.04581609, 10.35759964,\n",
              "       10.19471768,  6.67321246, 14.98266944,  8.85893261, 10.37453766,\n",
              "        8.94346545, 10.04843837,  8.19725961, 11.08489713,  9.96000372,\n",
              "       13.25661626, 12.5276452 ,  7.4653932 , 13.62289336,  8.98214917,\n",
              "        7.71955644, 11.33095723, 11.30083772, 10.72484203, 10.28785103,\n",
              "        7.73069849, 11.6805983 , 13.36208647,  7.10673527,  8.14386697,\n",
              "        7.90117089,  9.54298685, 14.96292353,  6.87228663,  8.57153243,\n",
              "       11.46989529, 10.46890896,  7.74336117,  8.82766781,  9.12067894,\n",
              "        6.98913505, 10.91055934, 11.07137069, 11.9047273 ,  8.07237037,\n",
              "        7.43833481,  9.06930332, 10.16204692,  6.85477172,  8.41460267,\n",
              "        3.40554821,  4.21500884,  8.923823  ,  7.21911909,  9.64112744,\n",
              "       11.48053446,  3.03187124, 13.56910957, 10.04329453, 11.21051313,\n",
              "        9.92427594,  8.92793131, 11.63002749,  7.11760601,  7.26072941,\n",
              "        8.78521233,  8.30349064,  9.14663704,  9.26676266, 11.26800567,\n",
              "        7.6751094 ,  8.75555829,  8.65563881, 11.94035107,  9.17637109,\n",
              "       10.91330616, 12.39783786,  7.28286264,  7.82537913, 15.46576777,\n",
              "       12.17897071, 10.2754496 , 11.28742558,  6.74225088, 10.76783995,\n",
              "       13.89140017, 11.70618831,  8.20153836,  6.58116479, 12.65614557,\n",
              "        8.72190729,  7.77030145, 10.98299747, 11.73763361, 11.62843869,\n",
              "       11.8196995 ,  7.54267134, 11.68134061, 11.29796914,  8.10728936,\n",
              "        9.19208872,  9.27096201, 14.25535988, 10.99972266, 10.82674984,\n",
              "        7.47883312,  6.07397471, 11.19845848,  6.82871578, 15.49602348,\n",
              "       10.75244023, 10.87509985,  7.07813206, 10.18905641, 11.58859949,\n",
              "        9.88710262,  8.68955207, 11.76830007, 12.21963514,  5.88989587,\n",
              "        7.25460922,  6.30562865, 10.46922323, 12.078076  , 10.91802835,\n",
              "       13.35999766,  8.12069069, 13.28954566,  6.94371897,  8.82683549,\n",
              "       10.28854453,  6.46161832,  9.5612902 ,  8.83002948, 12.56225745,\n",
              "        4.90662006,  9.26040105, 13.02545441,  9.20949124,  6.12513293,\n",
              "       11.39308389, 12.21826466,  8.03634911, 13.83624464,  9.39057174,\n",
              "       10.13634137, 11.96742103,  9.09406106,  6.74490991, 12.71958677,\n",
              "        9.09145559,  9.13773162, 12.02883767,  3.85356572,  7.20125031,\n",
              "       11.33356387, 11.84293959, 13.28611217,  9.35013907, 11.82901722,\n",
              "       11.5882518 ,  9.80577758,  7.92033758, 11.74781152, 10.44293528,\n",
              "        7.51439573, 13.87448604,  7.35703335, 10.38461205, 11.36287412,\n",
              "       10.15673757, 12.35754903,  6.02606716,  7.25904357,  7.09679793,\n",
              "       13.66914633, 10.01518289,  9.71656468, 10.5979052 ,  8.4766546 ,\n",
              "        7.02266662, 11.98479396, 11.60096496,  8.95564985,  6.84576726,\n",
              "        6.99635887, 10.01153848, 11.99766673, 10.01111789, 11.15131775,\n",
              "       10.63548736, 15.77695184,  9.30662694,  6.45871931, 13.252509  ,\n",
              "        9.37802762,  8.85355909,  9.04718038,  9.78239138,  3.99724586,\n",
              "       13.34973117, 11.0781332 ,  6.74436344,  4.3223454 , 10.80948797,\n",
              "       11.75331771,  7.49228009,  7.41587315, 13.01847907, 11.97280957,\n",
              "        9.4628554 , 11.96126709, 10.17470491,  7.79254064, 11.27728639,\n",
              "       13.39142178, 13.02595981,  6.58899137, 12.06060455,  8.17243564,\n",
              "       12.3330706 , 10.34953853,  9.728415  , 10.51648636,  9.30404081,\n",
              "        9.78579374,  9.59005139,  9.58434493, 13.33075202,  8.52013623,\n",
              "       11.67934396, 11.5544923 ,  6.71477662, 10.86384918,  7.50935383,\n",
              "       11.41921935,  9.81251566,  7.81436244, 13.41007802, 12.82978938,\n",
              "       10.01608928, 11.3182786 , 11.19265505,  9.30571846, 11.32321466,\n",
              "        9.43041808, 13.4405186 ,  4.03985398, 11.63920151, 11.56550965,\n",
              "       12.3328975 ,  7.74909378,  8.73644482,  6.43742706,  7.26128748,\n",
              "       11.95799321,  7.98485254, 13.00155743,  9.16250757,  9.57220075,\n",
              "        7.31506808, 12.47288912,  6.81791614, 12.4453349 ,  6.17436755,\n",
              "       10.86987961, 11.96570136, 10.89480412, 11.5913578 , 11.85270733,\n",
              "        9.7743159 , 10.18364069, 10.28560412,  9.56872293, 10.4169285 ,\n",
              "        8.8485128 , 11.19702325, 13.11020288, 11.09445294,  6.0170121 ,\n",
              "       10.55562378, 12.02656986,  9.81562081, 11.06891128, 12.19295131,\n",
              "       10.94858336, 11.13409899, 13.20021126,  7.31650603,  7.69850314,\n",
              "       10.07298288, 14.51217884, 10.72877269,  7.89447375,  6.99345133,\n",
              "        7.77886671,  7.3757576 ,  8.44102332,  6.46669697, 10.02144446,\n",
              "       11.76957484, 11.3586457 ,  8.71019987,  9.07155628,  6.5065813 ,\n",
              "       10.41930687, 11.58271748, 10.05281598, 11.10103394, 13.03303147,\n",
              "        7.70221757,  9.89642455, 14.55573152,  9.15475406, 12.9632809 ,\n",
              "       10.09912544,  9.87522255, 10.13393446,  8.22227915,  8.35731546,\n",
              "       11.88232817,  6.58169185, 10.12401961, 10.66408685, 11.07839499,\n",
              "        9.79601305, 12.70485555,  8.8945434 ,  6.4170668 ,  9.86967925,\n",
              "        9.09213265,  8.16953746,  6.95015094,  6.03436425, 10.72903602,\n",
              "        7.28155021,  9.17103912, 11.63131582, 10.28724549, 11.07545422,\n",
              "        8.05634395,  7.18432122,  8.56313563, 10.8301637 , 15.07630813,\n",
              "       10.33636887, 10.81999162, 10.5260754 ,  6.63681153, 10.68098416,\n",
              "       11.0941549 ,  8.89980648,  9.4938316 , 10.59010944, 12.47347909,\n",
              "        9.98771268,  8.90832156, 12.33942121,  8.80236424,  7.16317288,\n",
              "        7.73410651, 10.30431365,  6.42095857, 10.83558207,  6.83851872,\n",
              "        9.31425409])"
            ]
          },
          "metadata": {},
          "execution_count": 69
        }
      ]
    },
    {
      "cell_type": "code",
      "source": [
        "#prediction in the train data \n",
        "pred=MLR.predict(x_train)\n",
        "pred"
      ],
      "metadata": {
        "id": "4K9gK_mQnOUZ",
        "colab": {
          "base_uri": "https://localhost:8080/"
        },
        "outputId": "a216f130-8600-4dac-8cd2-4286e16f31ed"
      },
      "execution_count": 70,
      "outputs": [
        {
          "output_type": "execute_result",
          "data": {
            "text/plain": [
              "array([10.27314529,  8.11582285,  7.84002287, ..., 10.65288375,\n",
              "       11.42033804,  8.93289924])"
            ]
          },
          "metadata": {},
          "execution_count": 70
        }
      ]
    },
    {
      "cell_type": "code",
      "source": [
        "from sklearn.metrics import r2_score\n",
        "\n",
        "acc=r2_score(y_test,y_pred)\n",
        "\n",
        "acc"
      ],
      "metadata": {
        "id": "0CMeMgqSnSmc",
        "colab": {
          "base_uri": "https://localhost:8080/"
        },
        "outputId": "7f982974-7491-4fb8-ef4a-eb86414284bf"
      },
      "execution_count": 71,
      "outputs": [
        {
          "output_type": "execute_result",
          "data": {
            "text/plain": [
              "0.4670298166759935"
            ]
          },
          "metadata": {},
          "execution_count": 71
        }
      ]
    },
    {
      "cell_type": "code",
      "source": [
        "#test this model\n",
        "\n",
        "MLR.predict([[1,0.455,0.365,0.095,0.5140,0.2245,0.1010,0.150]])"
      ],
      "metadata": {
        "id": "x8XcenlVneCO",
        "colab": {
          "base_uri": "https://localhost:8080/"
        },
        "outputId": "1a6251d3-a195-476b-ddbe-d2dfd45f1cb8"
      },
      "execution_count": 72,
      "outputs": [
        {
          "output_type": "execute_result",
          "data": {
            "text/plain": [
              "array([9.95797225])"
            ]
          },
          "metadata": {},
          "execution_count": 72
        }
      ]
    },
    {
      "cell_type": "markdown",
      "source": [
        "# **13. Measure the performance using Metrics.**"
      ],
      "metadata": {
        "id": "Nn0n37EQjKl2"
      }
    },
    {
      "cell_type": "code",
      "source": [
        "from sklearn import metrics\n",
        "from sklearn.metrics import mean_squared_error"
      ],
      "metadata": {
        "id": "_qiFxRIJnezP"
      },
      "execution_count": 73,
      "outputs": []
    },
    {
      "cell_type": "code",
      "source": [
        "np.sqrt(mean_squared_error(y_test,y_pred))"
      ],
      "metadata": {
        "id": "JppvETEanis5",
        "colab": {
          "base_uri": "https://localhost:8080/"
        },
        "outputId": "b4bac13b-a390-46e3-d276-0c4d82f9575c"
      },
      "execution_count": 74,
      "outputs": [
        {
          "output_type": "execute_result",
          "data": {
            "text/plain": [
              "2.321013444365187"
            ]
          },
          "metadata": {},
          "execution_count": 74
        }
      ]
    },
    {
      "cell_type": "markdown",
      "source": [
        "## **LASSO**"
      ],
      "metadata": {
        "id": "eFHs-idbjY87"
      }
    },
    {
      "cell_type": "code",
      "source": [
        "from sklearn.linear_model import Lasso, Ridge"
      ],
      "metadata": {
        "id": "ymcH6YDVnl4J"
      },
      "execution_count": 75,
      "outputs": []
    },
    {
      "cell_type": "code",
      "source": [
        "#intialising model\n",
        "\n",
        "lso=Lasso(alpha=0.01,normalize=True)"
      ],
      "metadata": {
        "id": "I9jy1YpsnqYt"
      },
      "execution_count": 76,
      "outputs": []
    },
    {
      "cell_type": "code",
      "source": [
        "#fit the model\n",
        "lso.fit(x_train,y_train)"
      ],
      "metadata": {
        "id": "krNHSNIantzc",
        "colab": {
          "base_uri": "https://localhost:8080/"
        },
        "outputId": "fe5de0ef-104f-461a-d7c8-594088c191e6"
      },
      "execution_count": 77,
      "outputs": [
        {
          "output_type": "execute_result",
          "data": {
            "text/plain": [
              "Lasso(alpha=0.01, normalize=True)"
            ]
          },
          "metadata": {},
          "execution_count": 77
        }
      ]
    },
    {
      "cell_type": "code",
      "source": [
        "#predcition on test data\n",
        "\n",
        "lso_pred=lso.predict(x_test)"
      ],
      "metadata": {
        "id": "74D6hPCxnwvm"
      },
      "execution_count": 78,
      "outputs": []
    },
    {
      "cell_type": "code",
      "source": [
        "#coef\n",
        "coef=lso.coef_\n",
        "coef"
      ],
      "metadata": {
        "id": "CYZrw8isnzgK",
        "colab": {
          "base_uri": "https://localhost:8080/"
        },
        "outputId": "9b4f88f4-6449-44f1-a410-2d025b1c58fe"
      },
      "execution_count": 79,
      "outputs": [
        {
          "output_type": "execute_result",
          "data": {
            "text/plain": [
              "array([-0.        ,  0.        ,  0.        ,  0.49127354,  0.19280094,\n",
              "        0.        ,  0.        ,  0.78475877])"
            ]
          },
          "metadata": {},
          "execution_count": 79
        }
      ]
    },
    {
      "cell_type": "code",
      "source": [
        "#accuracy\n",
        "\n",
        "from sklearn import metrics\n",
        "from sklearn.metrics import mean_squared_error\n",
        "metrics.r2_score(y_test,lso_pred)"
      ],
      "metadata": {
        "id": "Rh1HCrL7n16v",
        "colab": {
          "base_uri": "https://localhost:8080/"
        },
        "outputId": "a34d77c1-8cc9-4017-aaa8-8b08ddd91820"
      },
      "execution_count": 80,
      "outputs": [
        {
          "output_type": "execute_result",
          "data": {
            "text/plain": [
              "0.3505418337852153"
            ]
          },
          "metadata": {},
          "execution_count": 80
        }
      ]
    },
    {
      "cell_type": "code",
      "source": [
        "#error\n",
        "\n",
        "np.sqrt(mean_squared_error(y_test,lso_pred))"
      ],
      "metadata": {
        "id": "MaN0cMesn8WM",
        "colab": {
          "base_uri": "https://localhost:8080/"
        },
        "outputId": "4e6fc1cd-001e-4ce0-bdd6-1629fc9dc7e4"
      },
      "execution_count": 81,
      "outputs": [
        {
          "output_type": "execute_result",
          "data": {
            "text/plain": [
              "2.562133709182496"
            ]
          },
          "metadata": {},
          "execution_count": 81
        }
      ]
    },
    {
      "cell_type": "markdown",
      "source": [
        "## **RIDGE**"
      ],
      "metadata": {
        "id": "_kYUwaogj2zN"
      }
    },
    {
      "cell_type": "code",
      "source": [
        "rg=Ridge(alpha=0.01,normalize=True)"
      ],
      "metadata": {
        "id": "pPyKOqwSn_RO"
      },
      "execution_count": 82,
      "outputs": []
    },
    {
      "cell_type": "code",
      "source": [
        "#fit\n",
        "rg.fit(x_train,y_train)"
      ],
      "metadata": {
        "id": "bNf0EzuYoCwR",
        "colab": {
          "base_uri": "https://localhost:8080/"
        },
        "outputId": "0f1074c9-0bee-4661-bc47-4860ea47a791"
      },
      "execution_count": 83,
      "outputs": [
        {
          "output_type": "execute_result",
          "data": {
            "text/plain": [
              "Ridge(alpha=0.01, normalize=True)"
            ]
          },
          "metadata": {},
          "execution_count": 83
        }
      ]
    },
    {
      "cell_type": "code",
      "source": [
        "#predcition\n",
        "\n",
        "rg_pred=rg.predict(x_test)\n",
        "rg_pred"
      ],
      "metadata": {
        "id": "v6R8O5yuoF6a",
        "colab": {
          "base_uri": "https://localhost:8080/"
        },
        "outputId": "929ccdd6-6e84-4690-d4d5-5ed937c568fb"
      },
      "execution_count": 84,
      "outputs": [
        {
          "output_type": "execute_result",
          "data": {
            "text/plain": [
              "array([11.69955856, 13.85288431, 11.06216963,  7.67360447, 11.31200864,\n",
              "       12.33681142, 10.68176216, 10.87457158,  6.85511363,  6.35359346,\n",
              "       10.7156044 ,  6.12253312, 12.34862175,  7.59893842, 10.47880947,\n",
              "       11.48247962,  6.9811951 ,  9.45401994, 12.69118731,  9.45707802,\n",
              "       11.32832327, 11.04320993, 10.9485036 ,  7.46237034, 13.22196307,\n",
              "       10.88972115, 10.65709964,  8.45075814,  9.38252453,  6.79059524,\n",
              "       10.24171977,  9.54840894,  4.35480332, 11.30185595,  7.60637653,\n",
              "       12.02762995, 15.62427134,  8.25260788, 10.47351978,  6.2623183 ,\n",
              "       10.77073352,  9.79998442, 11.14554441,  8.9007959 ,  5.92444597,\n",
              "       11.25436437,  8.18411619,  9.1020598 ,  9.79680153, 11.62701598,\n",
              "       10.06250971, 12.62464978, 12.52482035, 10.85956249, 10.78978762,\n",
              "        9.5575085 ,  7.12613625,  8.4412446 ,  6.86766608,  9.79770831,\n",
              "        7.30298614, 12.50511154,  9.7538559 ,  7.87808964,  7.20703617,\n",
              "       11.55049513, 14.47901233,  9.21675882,  4.00558883, 10.11132283,\n",
              "        7.9158491 , 11.68690557, 10.71526857,  9.4877037 ,  7.23253296,\n",
              "        7.8229308 ,  6.39742916, 12.24496115,  8.55559835,  7.8300254 ,\n",
              "        9.87468437,  9.8684988 ,  7.73956423, 10.24625477, 11.67417619,\n",
              "        9.89992026, 10.85552305,  7.89996886,  6.11095154,  6.60109423,\n",
              "        6.8388129 , 12.04106725, 11.02803617, 12.80187343,  9.57488829,\n",
              "       10.94517586, 10.07488382, 11.95614974,  9.59364267, 11.00855098,\n",
              "        9.22516458, 11.40257473,  7.43772804,  6.21826325, 13.01696967,\n",
              "        9.41874951,  9.31243945, 12.37910308,  6.72289023, 11.02577566,\n",
              "        9.91263826,  9.35718996, 12.31569874, 13.09885165, 15.33961357,\n",
              "       11.38526868,  9.52207257, 11.36749739, 11.50388989, 15.77432926,\n",
              "        7.67718029, 11.27905583,  7.82229499, 11.14980959,  9.69015879,\n",
              "       10.53913166,  5.89520935, 10.87722669,  9.54462483,  8.79350279,\n",
              "        9.29449008,  7.45371733,  7.10965143,  7.61211284,  7.11945066,\n",
              "       11.63982038, 14.63733471, 12.07071875, 12.0563454 , 10.86522544,\n",
              "       10.38531583,  7.63089364, 10.37299286,  8.86672288,  9.55247077,\n",
              "       11.36217747, 12.103858  ,  8.18465659,  9.38430383,  8.08041333,\n",
              "        9.9391893 ,  7.12999772, 10.37983598,  8.04395403,  9.18081184,\n",
              "       10.55111775,  8.67066397,  9.38072188, 10.71906606,  6.92180728,\n",
              "       12.40146689, 10.44046533,  9.79528811,  8.87531789,  9.20629692,\n",
              "        8.28550588,  9.73555325, 10.41050724, 11.88376837,  9.40014367,\n",
              "        9.51917032,  9.29687862, 11.26518618, 11.27455597, 10.09008039,\n",
              "        8.4447674 , 12.41671724, 12.07557162,  8.87958316, 12.1962798 ,\n",
              "       11.95242588, 10.46009343,  9.93625371, 11.16507288, 11.62330532,\n",
              "       10.18882234,  8.42488999,  9.15529202,  8.75342351,  6.58110771,\n",
              "        9.99033901, 11.89963191,  8.25867449, 12.64249205,  7.40791816,\n",
              "       10.67855425, 10.67962258, 12.37244378, 12.37650852, 10.49858083,\n",
              "        6.48724914, 10.86472801, 11.50570388,  7.06651754,  9.88698176,\n",
              "        9.82763384, 12.6060526 , 13.52234819,  9.0246475 , 10.4829575 ,\n",
              "       10.62693074, 11.32417349, 11.47015194,  9.23473936, 11.01650616,\n",
              "       10.31235853,  8.59633242,  9.36708589,  9.33951238, 11.6533627 ,\n",
              "       13.71365395, 11.3835651 , 10.96849554,  6.75725597, 11.2203276 ,\n",
              "        6.63737119, 10.3310094 ,  8.74094529,  9.98070334, 12.55029618,\n",
              "        8.31741965, 11.65267474,  7.97925846,  8.46061233,  5.89050934,\n",
              "        7.93619379, 11.9959066 ,  7.52411949,  9.2034309 , 11.39035059,\n",
              "        9.43839926,  5.98627547, 11.29594846, 12.43370465,  8.43597406,\n",
              "       10.49012078,  9.49067966, 11.72439785,  6.79853673,  7.02064045,\n",
              "       11.03245833, 11.91791128, 11.96969362, 12.3515118 , 10.54945931,\n",
              "       10.14162622,  7.01386316, 12.93975229, 10.93560917,  7.75111207,\n",
              "        6.69065198, 11.54598305, 10.13856211, 11.35352369,  9.21232002,\n",
              "       12.02526275, 11.48519924, 13.52009357, 13.26516298,  6.81303918,\n",
              "       10.94133815, 10.47295642,  9.90560504,  9.71761741, 12.30277974,\n",
              "       12.30253999, 10.89182835,  8.10154353,  3.93636865, 11.72362763,\n",
              "       12.01801818,  6.48089433, 12.50591351, 11.54737328, 12.51537415,\n",
              "       12.6360706 ,  9.67985432,  9.39861163, 10.89533093, 11.12924584,\n",
              "        8.97377377,  7.57927333, 11.21536032, 10.85016937, 11.68370391,\n",
              "       11.20637168,  4.70482925,  7.25626702, 11.87580224, 15.13872562,\n",
              "        6.39736921, 10.48150573,  5.70327228, 11.5839906 , 10.52919389,\n",
              "        8.07432803, 11.01961438,  4.25622056,  9.46349195,  6.5397357 ,\n",
              "        8.0049364 , 11.0782554 ,  6.73668072, 11.07533309, 10.69256282,\n",
              "        7.6362311 ,  6.16308899, 15.58458706,  9.91363963,  6.69960477,\n",
              "        9.58012658,  7.38354785,  6.63384299, 10.62703328,  9.7741026 ,\n",
              "       12.73099182, 13.11014983,  8.69777705, 11.28608101,  6.99202577,\n",
              "       12.69502157, 11.66309431,  5.70810786, 10.5483569 , 11.69544458,\n",
              "        8.53934935, 10.84606108,  9.68551139,  9.47356992, 11.41108586,\n",
              "        7.39576581, 10.64911751, 12.93833597, 11.03683076, 10.34386722,\n",
              "        8.9348963 , 11.95210365, 10.37576507, 10.3523052 ,  8.55077512,\n",
              "       11.26399977, 10.21615315,  9.81403691,  7.11954565, 11.01431965,\n",
              "        7.94378243,  8.94823112, 12.50734533,  9.98229097, 10.57296414,\n",
              "        8.7002874 ,  7.00282481, 11.34035056, 11.54859233,  4.76781564,\n",
              "        9.31045492,  8.10271641,  8.95299346, 14.69601666,  9.14090495,\n",
              "        7.11414556, 11.80027106,  9.47586511,  8.34900913,  8.59030946,\n",
              "       13.78316302,  7.77963794,  9.09185491,  5.9619069 , 10.32212019,\n",
              "       10.81139656, 10.39788736, 11.88515835,  7.92603087,  3.90076855,\n",
              "        8.8743503 ,  8.77883   ,  6.5166648 , 12.20934246,  7.63465314,\n",
              "       10.43121292, 11.05522956, 12.3910662 , 10.8762132 ,  9.92322539,\n",
              "       10.87797868, 10.82244627,  8.03140353,  7.80875393,  7.48069386,\n",
              "        8.13264268,  8.96919397, 12.03176741, 10.52057365,  6.93517223,\n",
              "        9.2783848 , 10.15090918, 13.02236363,  6.591247  ,  9.47078084,\n",
              "       10.52585475, 10.56444299, 12.04730944, 10.20021252,  9.94145639,\n",
              "        8.81148486, 11.77356338, 10.05860467, 12.5670123 ,  9.82684319,\n",
              "       11.93006094,  9.32426955, 12.88452291,  9.74136393,  7.27439733,\n",
              "       10.34982192, 10.60807444, 12.5611196 , 11.16953865, 14.36470028,\n",
              "        9.63677642,  6.83965711, 11.23853614, 11.7264016 , 11.62849237,\n",
              "        7.23992626,  7.35223554, 12.1374873 , 10.20737454, 13.6052056 ,\n",
              "        7.79933522,  9.00841117,  6.76754028,  9.13157897, 10.43992263,\n",
              "       15.0762519 ,  8.71127743, 10.14190648,  6.40366019,  6.82350108,\n",
              "       11.40707597,  7.95816268, 10.93275288,  7.92057157, 11.19463477,\n",
              "        8.9507534 , 11.81392741,  9.54571954, 11.36776245,  9.04070458,\n",
              "       12.32502221, 11.0932644 , 10.9384373 , 11.58176685,  7.15706941,\n",
              "       13.64042629,  6.26210526, 10.42874242,  9.25791356,  6.16654993,\n",
              "       11.21884015, 10.77226413, 11.35953366, 10.99765109, 10.37456329,\n",
              "       10.20079778,  6.68072035, 14.913799  ,  8.8580732 , 10.32064758,\n",
              "        8.93947693, 10.0509621 ,  8.26186039, 11.07650862,  9.94827613,\n",
              "       13.16766844, 12.42592537,  7.5433772 , 13.480255  ,  8.94570534,\n",
              "        7.76282074, 11.34608563, 11.16776031, 10.69625739, 10.33395792,\n",
              "        7.755402  , 11.69054551, 13.26754098,  7.11321801,  8.13621752,\n",
              "        7.8620256 ,  9.52307036, 14.81546312,  6.88066499,  8.56886522,\n",
              "       11.44430089, 10.41103876,  7.76541588,  8.82997678,  9.13432778,\n",
              "        6.98644904, 10.89504087, 11.01992493, 11.9152472 ,  8.3196571 ,\n",
              "        7.43759957,  9.0495646 , 10.19054187,  6.8750098 ,  8.40400444,\n",
              "        3.92173883,  4.35211731,  8.92734119,  7.28114861,  9.61216776,\n",
              "       11.42898049,  3.53248425, 13.4411913 , 10.05399402, 11.13684424,\n",
              "        9.98694796,  8.90927221, 11.65362137,  7.16853889,  7.29407491,\n",
              "        8.76421111,  8.59618853,  9.14028361,  9.26039095, 11.28291287,\n",
              "        7.70172288,  8.85445383,  8.74344885, 11.95614991,  9.18490858,\n",
              "       10.8575274 , 12.3901116 ,  7.27632409,  7.89507943, 15.25078052,\n",
              "       12.11387876, 10.25341526, 11.22511252,  6.75664658, 10.71984496,\n",
              "       13.79849246, 11.60617926,  8.19869205,  6.5510241 , 12.57741873,\n",
              "        8.77294407,  7.77592057, 10.94367355, 11.65893133, 11.62962072,\n",
              "       11.85949827,  7.54078326, 11.65277256, 11.28766293,  8.12381293,\n",
              "        9.17365692,  9.25759329, 14.13762164, 10.91073206, 10.83971005,\n",
              "        7.51460923,  6.07290378, 11.16911961,  6.86927594, 15.31069127,\n",
              "       10.78308546, 10.85390494,  7.12108318, 10.28536614, 11.54780227,\n",
              "        9.89977835,  8.68510156, 11.74715754, 12.13010558,  5.87770685,\n",
              "        7.29234864,  6.30584176, 10.55909955, 12.06822615, 10.98512742,\n",
              "       13.26438722,  8.10447388, 13.25208493,  6.96793862,  8.84895244,\n",
              "       10.32809047,  6.5937522 ,  9.55782245,  8.8368203 , 12.50442393,\n",
              "        5.00715213,  9.26859666, 12.90513004,  9.34650523,  6.12761468,\n",
              "       11.40036894, 12.23386085,  8.02412543, 13.73068236,  9.40595266,\n",
              "       10.18374377, 11.98634748,  9.11822856,  6.75723724, 12.65268589,\n",
              "        9.12265761,  9.1537199 , 11.98125913,  3.99696437,  7.20931801,\n",
              "       11.26214021, 11.85580985, 13.27120804,  9.3709572 , 11.7204436 ,\n",
              "       11.54613066,  9.83168962,  7.96444029, 11.66254049, 10.44545577,\n",
              "        7.49859952, 13.77653082,  7.33162795, 10.4690837 , 11.33969631,\n",
              "       10.13541833, 12.29412045,  6.07075955,  7.26471491,  7.11004432,\n",
              "       13.56557964,  9.99987787,  9.71542897, 10.60101947,  8.48555801,\n",
              "        7.05159276, 12.00478707, 11.63629686,  8.98610177,  6.8679508 ,\n",
              "        6.99776811, 10.14189754, 11.99753286, 10.02716979, 11.09732912,\n",
              "       10.61535346, 15.64935826,  9.32680086,  6.46351991, 13.21186444,\n",
              "        9.40096198,  8.84469695,  9.08083067,  9.87396057,  4.13938247,\n",
              "       13.25153668, 11.08929837,  6.72446366,  4.46109508, 10.87803033,\n",
              "       11.68497608,  7.48966499,  7.4457366 , 12.92236415, 11.86100902,\n",
              "        9.62175635, 12.01377968, 10.27309783,  7.817878  , 11.26123131,\n",
              "       13.38263818, 12.97082357,  6.57722736, 11.96365908,  8.31977055,\n",
              "       12.26196669, 10.42441576,  9.81403431, 10.58165144,  9.25839211,\n",
              "        9.69920221,  9.68084642,  9.61476545, 13.2115167 ,  8.54807947,\n",
              "       11.6852344 , 11.53444289,  6.73790759, 10.86866354,  7.5421167 ,\n",
              "       11.43875442,  9.80125127,  7.79438492, 13.37852788, 12.82294867,\n",
              "        9.93440137, 11.27951198, 11.18665767,  9.42107424, 11.44976555,\n",
              "        9.44575226, 13.2615385 ,  4.18012274, 11.60081644, 11.53134851,\n",
              "       12.1755045 ,  7.78169425,  8.71994604,  6.57106809,  7.26085709,\n",
              "       11.92179379,  7.98663661, 12.95990167,  9.23286376,  9.60024019,\n",
              "        7.32297982, 12.46541317,  6.80708494, 12.42133351,  6.16189423,\n",
              "       10.92711178, 11.97842982, 10.9331269 , 11.55484944, 11.96973081,\n",
              "        9.76064727, 10.27524313, 10.28897885,  9.55308612, 10.49883807,\n",
              "        8.84616966, 11.26422085, 12.96956113, 11.16407294,  5.99556232,\n",
              "       10.59877665, 12.02683115,  9.81637026, 11.04383302, 12.19487389,\n",
              "       10.9545819 , 11.06527402, 13.14718178,  7.37674797,  7.75422196,\n",
              "       10.09824217, 14.34272954, 10.7659528 ,  7.88707614,  7.00211134,\n",
              "        7.81368459,  7.3732739 ,  8.42863041,  6.43460035, 10.09233874,\n",
              "       11.83126312, 11.42348271,  8.71224026,  9.09523201,  6.63633705,\n",
              "       10.51912814, 11.5534987 , 10.02933194, 11.08637747, 12.89541407,\n",
              "        7.67924687,  9.89904997, 14.41593592,  9.21499491, 12.83108074,\n",
              "       10.14196268,  9.91162101, 10.1386569 ,  8.28563302,  8.34276018,\n",
              "       11.82114673,  6.60400965, 10.16871142, 10.610687  , 11.06836361,\n",
              "        9.82280959, 12.59322294,  8.90065669,  6.55135196,  9.84331322,\n",
              "        9.13245818,  8.13057485,  6.96254768,  6.00728821, 10.92453655,\n",
              "        7.28666077,  9.19636908, 11.66872167, 10.30231328, 11.0198137 ,\n",
              "        8.12134518,  7.18497286,  8.56913795, 10.92872037, 14.92099116,\n",
              "       10.38494335, 10.86062598, 10.48194952,  6.65681121, 10.65404157,\n",
              "       11.16197366,  8.84846883,  9.43328901, 10.66662086, 12.46524129,\n",
              "        9.92709426,  8.8915384 , 12.20935907,  8.82314729,  7.17109425,\n",
              "        7.74671522, 10.32709967,  6.45123076, 10.86292593,  6.84625766,\n",
              "        9.35086141])"
            ]
          },
          "metadata": {},
          "execution_count": 84
        }
      ]
    },
    {
      "cell_type": "code",
      "source": [
        "#coef\n",
        "rg.coef_"
      ],
      "metadata": {
        "id": "MlF4qF3NoJjW",
        "colab": {
          "base_uri": "https://localhost:8080/"
        },
        "outputId": "cf263b6e-30b5-40cf-f4e3-4b023f440668"
      },
      "execution_count": 85,
      "outputs": [
        {
          "output_type": "execute_result",
          "data": {
            "text/plain": [
              "array([-0.28039509, -0.70289198,  0.24557194,  0.9939529 ,  0.97765371,\n",
              "       -1.34018929, -0.07079958,  1.72396196])"
            ]
          },
          "metadata": {},
          "execution_count": 85
        }
      ]
    },
    {
      "cell_type": "code",
      "source": [
        "#accuracy\n",
        "\n",
        "metrics.r2_score(y_test,rg_pred)"
      ],
      "metadata": {
        "id": "oG6GPp0ToNNO",
        "colab": {
          "base_uri": "https://localhost:8080/"
        },
        "outputId": "7d12a0be-0bc3-4ab2-b8e8-53674acca0e3"
      },
      "execution_count": 86,
      "outputs": [
        {
          "output_type": "execute_result",
          "data": {
            "text/plain": [
              "0.46486180418588263"
            ]
          },
          "metadata": {},
          "execution_count": 86
        }
      ]
    },
    {
      "cell_type": "code",
      "source": [
        "#error\n",
        "\n",
        "np.sqrt(mean_squared_error(y_test,rg_pred))"
      ],
      "metadata": {
        "id": "wJrK4kK6oQNe",
        "colab": {
          "base_uri": "https://localhost:8080/"
        },
        "outputId": "4a0ea224-914f-4a0d-a867-679631056f8d"
      },
      "execution_count": 87,
      "outputs": [
        {
          "output_type": "execute_result",
          "data": {
            "text/plain": [
              "2.3257293547540248"
            ]
          },
          "metadata": {},
          "execution_count": 87
        }
      ]
    }
  ]
}